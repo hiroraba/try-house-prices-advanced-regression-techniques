{
 "cells": [
  {
   "cell_type": "markdown",
   "source": [
    "## IMPORT LIBRARY"
   ],
   "metadata": {}
  },
  {
   "cell_type": "code",
   "execution_count": 729,
   "source": [
    "import numpy as np\n",
    "import os\n",
    "import platform\n",
    "import pandas as pd\n",
    "from sklearn.metrics import mean_squared_error\n",
    "from sklearn.preprocessing import StandardScaler\n",
    "from sklearn.pipeline import make_pipeline\n",
    "from sklearn.linear_model import Lasso\n",
    "from scipy.stats import skew\n",
    "from scipy.special import boxcox1p\n",
    "from scipy.stats import boxcox_normmax\n",
    "from scipy.stats import boxcox\n",
    "from scipy.special import inv_boxcox\n",
    "import xgboost as xgb\n",
    "import lightgbm as lgbm\n",
    "from sklearn.model_selection import GridSearchCV\n",
    "from sklearn.metrics import make_scorer"
   ],
   "outputs": [],
   "metadata": {}
  },
  {
   "cell_type": "markdown",
   "source": [
    "## CONSTRAINT"
   ],
   "metadata": {}
  },
  {
   "cell_type": "code",
   "execution_count": 730,
   "source": [
    "DEBUG = True"
   ],
   "outputs": [],
   "metadata": {}
  },
  {
   "cell_type": "code",
   "execution_count": 731,
   "source": [
    "if platform.system() == 'Darwin':\n",
    "    PATH = './'\n",
    "else:\n",
    "    PATH = '/content/drive/MyDrive/Colab Notebooks/Kaggle/House-Prices/'"
   ],
   "outputs": [],
   "metadata": {}
  },
  {
   "cell_type": "markdown",
   "source": [
    "## SET SEED"
   ],
   "metadata": {}
  },
  {
   "cell_type": "code",
   "execution_count": 732,
   "source": [
    "np.random.seed(1)"
   ],
   "outputs": [],
   "metadata": {}
  },
  {
   "cell_type": "markdown",
   "source": [
    "## READ DATA"
   ],
   "metadata": {}
  },
  {
   "cell_type": "code",
   "execution_count": 733,
   "source": [
    "df_train = pd.read_csv(f'{PATH}train.csv')\n",
    "df_test = pd.read_csv(f'{PATH}test.csv')\n",
    "\n",
    "# テストIDを別途保存しておく\n",
    "test_ID = df_test['Id']\n"
   ],
   "outputs": [],
   "metadata": {}
  },
  {
   "cell_type": "markdown",
   "source": [
    "## REMOVE OUTER VALUE"
   ],
   "metadata": {}
  },
  {
   "cell_type": "code",
   "execution_count": 734,
   "source": [
    "#df_train.drop(\"Id\", axis = 1, inplace = True)\n",
    "df_test.drop(\"Id\", axis = 1, inplace = True)\n",
    "\n",
    "df_train[\"TotalSF\"] = df_train[\"1stFlrSF\"] + df_train[\"2ndFlrSF\"] + df_train[\"TotalBsmtSF\"]\n",
    "df_test[\"TotalSF\"] = df_test[\"1stFlrSF\"] + df_test[\"2ndFlrSF\"] + df_test[\"TotalBsmtSF\"]\n",
    "\n",
    "df_train = df_train.drop(df_train[(df_train['TotalSF']>7500) & (df_train['SalePrice']<300000)].index)\n",
    "df_train = df_train.drop(df_train[(df_train['YearBuilt']<2000) & (df_train['SalePrice']>600000)].index)\n",
    "df_train = df_train.drop(df_train[(df_train['OverallQual']<5) & (df_train['SalePrice']>200000)].index)\n",
    "df_train = df_train.drop(df_train[(df_train['OverallQual']<10) & (df_train['SalePrice']>500000)].index)"
   ],
   "outputs": [],
   "metadata": {}
  },
  {
   "cell_type": "markdown",
   "source": [
    "## MAKE DATA"
   ],
   "metadata": {}
  },
  {
   "cell_type": "code",
   "execution_count": 735,
   "source": [
    "# データを合体\n",
    "df = pd.concat([df_train, df_test], sort=False)\n",
    "\n",
    "# 数値の欠損値に平均値を埋めておく\n",
    "num_cols = [col for col in df.columns if df[col].dtype in ['int64', 'float64']]\n",
    "for col in num_cols:\n",
    "    df[col].fillna(np.mean(df[col]), inplace=True)\n",
    "\n",
    "num2str_list = ['MSSubClass','YrSold','MoSold']\n",
    "for column in num2str_list:\n",
    "    df[column] = df[column].astype(str)\n",
    "    \n",
    "df.loc[df['Fireplaces']==0,'FireplaceQu']='Nothing'\n",
    "df['LotFrontage'] = df['LotFrontage'].fillna(df.groupby('1stFlrSF')['LotFrontage'].transform('mean'))\n",
    "df['LotFrontage'].interpolate(method='linear',inplace=True)\n",
    "df['LotFrontage']=df['LotFrontage'].astype(int)\n",
    "df['MasVnrArea'] = df['MasVnrArea'].fillna(df.groupby('MasVnrType')['MasVnrArea'].transform('mean'))\n",
    "df['MasVnrArea'].interpolate(method='linear',inplace=True)\n",
    "df['MasVnrArea']=df['MasVnrArea'].astype(int)\n",
    "df[\"Fence\"] = df[\"Fence\"].fillna(\"None\")\n",
    "df[\"FireplaceQu\"] = df[\"FireplaceQu\"].fillna(\"None\")\n",
    "df[\"Alley\"] = df[\"Alley\"].fillna(\"None\")\n",
    "df[\"PoolQC\"] = df[\"PoolQC\"].fillna(\"None\")\n",
    "df[\"MiscFeature\"] = df[\"MiscFeature\"].fillna(\"None\")\n",
    "df.loc[df['BsmtFinSF1']==0,'BsmtFinType1']='Unf'\n",
    "df.loc[df['BsmtFinSF2']==0,'BsmtQual']='TA'\n",
    "df['YrBltRmd']=df['YearBuilt']+df['YearRemodAdd']\n",
    "df['Total_Square_Feet'] = (df['BsmtFinSF1'] + df['BsmtFinSF2'] + df['1stFlrSF'] + df['2ndFlrSF'] + df['TotalBsmtSF'])\n",
    "df['Total_Bath'] = (df['FullBath'] + (0.5 * df['HalfBath']) + df['BsmtFullBath'] + (0.5 * df['BsmtHalfBath']))\n",
    "df['Total_Porch_Area'] = (df['OpenPorchSF'] + df['3SsnPorch'] + df['EnclosedPorch'] + df['ScreenPorch'] + df['WoodDeckSF'])\n",
    "df['exists_pool'] = df['PoolArea'].apply(lambda x: 1 if x > 0 else 0)\n",
    "df['exists_garage'] = df['GarageArea'].apply(lambda x: 1 if x > 0 else 0)\n",
    "df['exists_fireplace'] = df['Fireplaces'].apply(lambda x: 1 if x > 0 else 0)\n",
    "df['exists_bsmt'] = df['TotalBsmtSF'].apply(lambda x: 1 if x > 0 else 0)\n",
    "df['old_house'] = df['YearBuilt'].apply(lambda x: 1 if x <1990 else 0)\n",
    "\n",
    "for i in df.columns:\n",
    "    if 'SalePrice' not in i:\n",
    "        if 'object' in str(df[str(i)].dtype):\n",
    "            df[str(i)]=df[str(i)].fillna(method='ffill')\n",
    "\n",
    "# 正規化    \n",
    "numeric_features = df.dtypes[df.dtypes != \"object\"].index\n",
    "# 歪みを数値化\n",
    "skewed_features = df[numeric_features].apply(lambda x: skew(x)).sort_values(ascending=False)\n",
    "high_skewness = skewed_features[abs(skewed_features) > 0.9]\n",
    "skewed_features = high_skewness.index\n",
    "\n",
    "# 0.9以上のものを補正をかける\n",
    "for feature in skewed_features:\n",
    "    if feature != 'SalePrice': \n",
    "        df[feature] = boxcox1p(df[feature], boxcox_normmax(df[feature] + 1))\n",
    "\n",
    "# one-hot-Encoding\n",
    "df = pd.get_dummies(df)\n",
    "\n",
    "# 訓練データを作成\n",
    "y = np.log(df[:df_train.shape[0]]['SalePrice'])\n",
    "X = df[:df_train.shape[0]].drop(['Id','SalePrice'], axis=1)\n",
    "\n",
    "# 検証\n",
    "from sklearn.model_selection import train_test_split\n",
    "X_train, X_test, y_train, y_test = train_test_split(X, y, test_size=0.2)"
   ],
   "outputs": [],
   "metadata": {}
  },
  {
   "cell_type": "markdown",
   "source": [
    "## RSME"
   ],
   "metadata": {}
  },
  {
   "cell_type": "code",
   "execution_count": 736,
   "source": [
    "def rmse(y_true,y_pred):\n",
    "    #RMSEを算出\n",
    "    rmse = np.sqrt(mean_squared_error(y_true,y_pred))\n",
    "    print('rmse',rmse)\n",
    "    return rmse"
   ],
   "outputs": [],
   "metadata": {}
  },
  {
   "cell_type": "markdown",
   "source": [
    "## MAKE MODEL AND FIT (XGBOOST)"
   ],
   "metadata": {}
  },
  {
   "cell_type": "code",
   "execution_count": 737,
   "source": [
    "pipeline = make_pipeline(StandardScaler(), xgb.XGBRegressor(gamma=0.001, learning_rate=0.01, max_depth=2, n_estimators=8000))\n",
    "\n",
    "\n",
    "#params = {'xgbregressor__gamma':[0.001, 0.1, 1, 10, 100],\n",
    "#          'xgbregressor__max_depth':[2,4,6,8,10],\n",
    "#          'xgbregressor__learning_rate':[0.0001, 0.001, 0.01],\n",
    "#          'xgbregressor__n_estimators':[10, 100, 1000]}\n",
    "\n",
    "#if DEBUG:\n",
    "#    params = {'xgbregressor__gamma':[0.001, 0.1, 1, 10, 100]}\n",
    "\n",
    "#gd = GridSearchCV(estimator=pipeline, param_grid=params, cv=5, scoring=make_scorer(rmse,greater_is_better=False))\n",
    "pipeline.fit(X_train, y_train)\n",
    "xgboost = pipeline\n",
    "y_pred = xgboost.predict(X_test)"
   ],
   "outputs": [],
   "metadata": {}
  },
  {
   "cell_type": "markdown",
   "source": [
    "## BEST PARAM(XGBOOST)"
   ],
   "metadata": {}
  },
  {
   "cell_type": "code",
   "execution_count": 738,
   "source": [
    "#gd.best_params_"
   ],
   "outputs": [],
   "metadata": {}
  },
  {
   "cell_type": "markdown",
   "source": [
    "## PREDICT (XGBOOST)"
   ],
   "metadata": {}
  },
  {
   "cell_type": "code",
   "execution_count": 739,
   "source": [
    "np.sqrt(mean_squared_error(y_true=y_test, y_pred=y_pred, squared=False))"
   ],
   "outputs": [
    {
     "output_type": "execute_result",
     "data": {
      "text/plain": [
       "0.3589954545554082"
      ]
     },
     "metadata": {},
     "execution_count": 739
    }
   ],
   "metadata": {}
  },
  {
   "cell_type": "markdown",
   "source": [
    "## MAKE MODEL AND FIT (LIGHT BGM)"
   ],
   "metadata": {}
  },
  {
   "cell_type": "code",
   "execution_count": 740,
   "source": [
    "pipeline = make_pipeline(StandardScaler(), lgbm.LGBMRegressor())\n",
    "params = {'lgbmregressor__min_child_samples':[10, 20, 50, 100],\n",
    "          'lgbmregressor__max_depth':[2,4,6,8,10],\n",
    "          'lgbmregressor__learning_rate':[0.0001, 0.001, 0.01],\n",
    "          'lgbmregressor__n_estimators':[10, 100, 1000]}\n",
    "\n",
    "if DEBUG:\n",
    "    params = {'lgbmregressor__learning_rate':[0.0001, 0.001, 0.01],\n",
    "              'lgbmregressor__min_child_samples':[2, 3, 5]}\n",
    "\n",
    "gd = GridSearchCV(estimator=pipeline, param_grid=params, cv=5, scoring=make_scorer(rmse,greater_is_better=False))\n",
    "gd.fit(X_train, y_train)\n",
    "lightbgm = gd.best_estimator_\n",
    "y_pred = lightbgm.predict(X_test)"
   ],
   "outputs": [
    {
     "output_type": "stream",
     "name": "stdout",
     "text": [
      "rmse 0.40122162421664453\n",
      "rmse 0.42720033811965286\n",
      "rmse 0.3540793321060869\n",
      "rmse 0.38366968562422454\n",
      "rmse 0.36434102806106566\n",
      "rmse 0.4012353632790429\n",
      "rmse 0.4271955515742684\n",
      "rmse 0.3540073156629852\n",
      "rmse 0.38364956640918085\n",
      "rmse 0.364328778006568\n",
      "rmse 0.40120260444361605\n",
      "rmse 0.42719076810381357\n",
      "rmse 0.35401480840806476\n",
      "rmse 0.38369149481214126\n",
      "rmse 0.3643443024657898\n",
      "rmse 0.3717764475868815\n",
      "rmse 0.4010894417172063\n",
      "rmse 0.32695327369872346\n",
      "rmse 0.3583882967867607\n",
      "rmse 0.3375835111462156\n",
      "rmse 0.3719220172520329\n",
      "rmse 0.40099785891526485\n",
      "rmse 0.32676729121343356\n",
      "rmse 0.358134467342223\n",
      "rmse 0.3374842568475042\n",
      "rmse 0.37134171536582283\n",
      "rmse 0.40104167555508285\n",
      "rmse 0.32677061305141103\n",
      "rmse 0.35802615139901334\n",
      "rmse 0.3375203300825635\n",
      "rmse 0.19308070677296008\n",
      "rmse 0.2357657875731462\n",
      "rmse 0.1812499186300832\n",
      "rmse 0.21038344107489687\n",
      "rmse 0.18748914524434243\n",
      "rmse 0.19400007520084495\n",
      "rmse 0.23506638242077166\n",
      "rmse 0.1805136892021905\n",
      "rmse 0.2101870187538976\n",
      "rmse 0.1876756376590744\n",
      "rmse 0.19284796055081171\n",
      "rmse 0.23232992794631843\n",
      "rmse 0.1794054258777963\n",
      "rmse 0.20938554183186667\n",
      "rmse 0.18577444807571378\n"
     ]
    }
   ],
   "metadata": {}
  },
  {
   "cell_type": "markdown",
   "source": [
    "## BEST PARAMS(LIGHTBGM)"
   ],
   "metadata": {}
  },
  {
   "cell_type": "code",
   "execution_count": 741,
   "source": [
    "gd.best_params_"
   ],
   "outputs": [
    {
     "output_type": "execute_result",
     "data": {
      "text/plain": [
       "{'lgbmregressor__learning_rate': 0.01, 'lgbmregressor__min_child_samples': 5}"
      ]
     },
     "metadata": {},
     "execution_count": 741
    }
   ],
   "metadata": {}
  },
  {
   "cell_type": "markdown",
   "source": [
    "## SCORE (LIGHTBGM)"
   ],
   "metadata": {}
  },
  {
   "cell_type": "code",
   "execution_count": 742,
   "source": [
    "np.sqrt(mean_squared_error(y_true=y_test, y_pred=y_pred, squared=False))"
   ],
   "outputs": [
    {
     "output_type": "execute_result",
     "data": {
      "text/plain": [
       "0.4534298690369743"
      ]
     },
     "metadata": {},
     "execution_count": 742
    }
   ],
   "metadata": {}
  },
  {
   "cell_type": "markdown",
   "source": [
    "## PREDICT AND SUBMIT"
   ],
   "metadata": {}
  },
  {
   "cell_type": "code",
   "execution_count": 743,
   "source": [
    "test = df[df_train.shape[0]:].drop(['Id','SalePrice'], axis=1)\n",
    "xgb_pred = np.exp(xgboost.predict(test))\n",
    "lightbgm_pred = np.exp(lightbgm.predict(test))\n",
    "test_pred = (xgb_pred + lightbgm_pred) / 2\n",
    "submission = pd.DataFrame({\n",
    "    \"Id\": test_ID,\n",
    "    \"SalePrice\": test_pred\n",
    "})\n",
    "submission.to_csv(f'{PATH}submission.csv', index=False)"
   ],
   "outputs": [],
   "metadata": {}
  }
 ],
 "metadata": {
  "orig_nbformat": 4,
  "language_info": {
   "name": "python",
   "version": "3.8.5",
   "mimetype": "text/x-python",
   "codemirror_mode": {
    "name": "ipython",
    "version": 3
   },
   "pygments_lexer": "ipython3",
   "nbconvert_exporter": "python",
   "file_extension": ".py"
  },
  "kernelspec": {
   "name": "python3",
   "display_name": "Python 3.8.5 64-bit ('base': conda)"
  },
  "interpreter": {
   "hash": "dca0ade3e726a953b501b15e8e990130d2b7799f14cfd9f4271676035ebe5511"
  }
 },
 "nbformat": 4,
 "nbformat_minor": 2
}