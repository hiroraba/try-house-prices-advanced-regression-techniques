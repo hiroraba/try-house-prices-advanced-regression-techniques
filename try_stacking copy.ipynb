{
  "nbformat": 4,
  "nbformat_minor": 0,
  "metadata": {
    "orig_nbformat": 4,
    "language_info": {
      "name": "python",
      "version": "3.8.5",
      "mimetype": "text/x-python",
      "codemirror_mode": {
        "name": "ipython",
        "version": 3
      },
      "pygments_lexer": "ipython3",
      "nbconvert_exporter": "python",
      "file_extension": ".py"
    },
    "kernelspec": {
      "name": "python3",
      "display_name": "Python 3.8.5 64-bit ('base': conda)"
    },
    "interpreter": {
      "hash": "dca0ade3e726a953b501b15e8e990130d2b7799f14cfd9f4271676035ebe5511"
    },
    "colab": {
      "name": "try_stacking.ipynb",
      "provenance": [],
      "include_colab_link": true
    },
    "accelerator": "GPU"
  },
<<<<<<< HEAD
  {
   "cell_type": "code",
   "execution_count": null,
   "source": [
    "import numpy as np\n",
    "import os\n",
    "import platform\n",
    "import pandas as pd\n",
    "from sklearn.metrics import mean_squared_error\n",
    "from sklearn.preprocessing import StandardScaler\n",
    "from sklearn.pipeline import make_pipeline\n",
    "from sklearn.ensemble import RandomForestRegressor\n",
    "from sklearn.linear_model import Lasso\n",
    "from sklearn.linear_model import LinearRegression\n",
    "from sklearn.ensemble import StackingRegressor\n",
    "from sklearn.ensemble import ExtraTreesRegressor\n",
    "from sklearn.preprocessing import RobustScaler\n",
    "from sklearn.neural_network import MLPRegressor\n",
    "from scipy.stats import skew\n",
    "from scipy.special import boxcox1p\n",
    "from scipy.stats import boxcox_normmax\n",
    "from scipy.stats import boxcox\n",
    "from scipy.special import inv_boxcox\n",
    "import xgboost as xgb\n",
    "import lightgbm as lgbm\n",
    "from sklearn.model_selection import GridSearchCV\n",
    "from sklearn.metrics import make_scorer"
   ],
   "outputs": [],
   "metadata": {}
  },
  {
   "cell_type": "markdown",
   "source": [
    "## CONSTRAINT"
   ],
   "metadata": {}
  },
  {
   "cell_type": "code",
   "execution_count": null,
   "source": [
    "DEBUG = True"
   ],
   "outputs": [],
   "metadata": {}
  },
  {
   "cell_type": "code",
   "execution_count": null,
   "source": [
    "if platform.system() == 'Darwin':\n",
    "    PATH = './'\n",
    "else:\n",
    "    PATH = '/content/drive/MyDrive/Colab Notebooks/Kaggle/House-Prices/'"
   ],
   "outputs": [],
   "metadata": {}
  },
  {
   "cell_type": "markdown",
   "source": [
    "## SET SEED"
   ],
   "metadata": {}
  },
  {
   "cell_type": "code",
   "execution_count": null,
   "source": [
    "np.random.seed(1)"
   ],
   "outputs": [],
   "metadata": {}
  },
  {
   "cell_type": "markdown",
   "source": [
    "## READ DATA"
   ],
   "metadata": {}
  },
  {
   "cell_type": "code",
   "execution_count": null,
   "source": [
    "df_train = pd.read_csv(f'{PATH}train.csv')\n",
    "df_test = pd.read_csv(f'{PATH}test.csv')\n",
    "\n",
    "# テストIDを別途保存しておく\n",
    "test_ID = df_test['Id']\n"
   ],
   "outputs": [],
   "metadata": {}
  },
  {
   "cell_type": "markdown",
   "source": [
    "## REMOVE OUTER VALUE"
   ],
   "metadata": {}
  },
  {
   "cell_type": "code",
   "execution_count": null,
   "source": [
    "df_train.drop(\"Id\", axis = 1, inplace = True)\n",
    "df_test.drop(\"Id\", axis = 1, inplace = True)\n",
    "\n",
    "df_train[\"TotalSF\"] = df_train[\"1stFlrSF\"] + df_train[\"2ndFlrSF\"] + df_train[\"TotalBsmtSF\"]\n",
    "df_test[\"TotalSF\"] = df_test[\"1stFlrSF\"] + df_test[\"2ndFlrSF\"] + df_test[\"TotalBsmtSF\"]\n",
    "\n",
    "df_train = df_train.drop(df_train[(df_train['GrLivArea']>4000) & (df_train['SalePrice']<300000)].index)"
   ],
   "outputs": [],
   "metadata": {}
  },
  {
   "cell_type": "markdown",
   "source": [
    "## MAKE DATA"
   ],
   "metadata": {}
  },
  {
   "cell_type": "code",
   "execution_count": null,
   "source": [
    "\n",
    "# データを合体\n",
    "df = pd.concat([df_train, df_test], sort=False)\n",
    "\n",
    "df[\"PoolQC\"] = df[\"PoolQC\"].fillna(\"None\")\n",
    "df[\"MiscFeature\"] = df[\"MiscFeature\"].fillna(\"None\")\n",
    "df[\"Alley\"] = df[\"Alley\"].fillna(\"None\")\n",
    "df[\"Fence\"] = df[\"Fence\"].fillna(\"None\")\n",
    "df[\"FireplaceQu\"] = df[\"FireplaceQu\"].fillna(\"None\")\n",
    "df[\"LotFrontage\"] = df.groupby(\"Neighborhood\")[\"LotFrontage\"].transform(\n",
    "    lambda x: x.fillna(x.median()))\n",
    "\n",
    "# 'RL'が一番多いのでそれで埋める\n",
    "df['MSZoning'] = df['MSZoning'].fillna(df['MSZoning'].mode()[0])\n",
    "\n",
    "df[\"Functional\"] = df[\"Functional\"].fillna(\"Typ\")\n",
    "\n",
    "for col in ('GarageType', 'GarageFinish', 'GarageQual', 'GarageCond'):\n",
    "    df[col] = df[col].fillna('None')\n",
    "    \n",
    "for col in ('GarageYrBlt', 'GarageArea', 'GarageCars'):\n",
    "    df[col] = df[col].fillna(0)\n",
    "    \n",
    "for col in ('BsmtFinSF1', 'BsmtFinSF2', 'BsmtUnfSF','TotalBsmtSF', 'BsmtFullBath', 'BsmtHalfBath'):\n",
    "    df[col] = df[col].fillna(0)\n",
    "    \n",
    "for col in ('BsmtQual', 'BsmtCond', 'BsmtExposure', 'BsmtFinType1', 'BsmtFinType2'):\n",
    "    df[col] = df[col].fillna('None')\n",
    "\n",
    "df[\"MasVnrType\"] = df[\"MasVnrType\"].fillna(\"None\")\n",
    "df[\"MasVnrArea\"] = df[\"MasVnrArea\"].fillna(0)\n",
    "\n",
    "# 電気がないことはないので最頻値で埋める\n",
    "df['Electrical'] = df['Electrical'].fillna(df['Electrical'].mode()[0])\n",
    "\n",
    "df = df.drop(['Utilities'], axis=1)\n",
    "\n",
    "# キッチンがないことはないので最頻値で埋める\n",
    "df['KitchenQual'] = df['KitchenQual'].fillna(df['KitchenQual'].mode()[0])\n",
    "\n",
    "df['Exterior1st'] = df['Exterior1st'].fillna(df['Exterior1st'].mode()[0])\n",
    "df['Exterior2nd'] = df['Exterior2nd'].fillna(df['Exterior2nd'].mode()[0])\n",
    "\n",
    "df['SaleType'] = df['SaleType'].fillna(df['SaleType'].mode()[0])\n",
    "df['MSSubClass'] = df['MSSubClass'].fillna(\"None\")\n",
    "\n",
    "## カテゴリにしたい数値型の特徴量を文字列に変換\n",
    "#MSSubClass=The building class\n",
    "df['MSSubClass'] = df['MSSubClass'].apply(str)\n",
    "\n",
    "#Changing OverallCond into a categorical variable\n",
    "df['OverallCond'] = df['OverallCond'].astype(str)\n",
    "\n",
    "#Year and month sold are transformed into categorical features.\n",
    "df['YrSold'] = df['YrSold'].astype(str)\n",
    "df['MoSold'] = df['MoSold'].astype(str)\n",
    "\n",
    "from sklearn.preprocessing import LabelEncoder\n",
    "cols = ('FireplaceQu', 'BsmtQual', 'BsmtCond', 'GarageQual', 'GarageCond', \n",
    "        'ExterQual', 'ExterCond','HeatingQC', 'PoolQC', 'KitchenQual', 'BsmtFinType1', \n",
    "        'BsmtFinType2', 'Functional', 'Fence', 'BsmtExposure', 'GarageFinish', 'LandSlope',\n",
    "        'LotShape', 'PavedDrive', 'Street', 'Alley', 'CentralAir', 'MSSubClass', 'OverallCond', \n",
    "        'YrSold', 'MoSold')\n",
    "# process columns, apply LabelEncoder to categorical features\n",
    "for c in cols:\n",
    "    lbl = LabelEncoder() \n",
    "    lbl.fit(list(df[c].values)) \n",
    "    df[c] = lbl.transform(list(df[c].values))\n",
    "    \n",
    "df['TotalSF'] = df['TotalBsmtSF'] + df['1stFlrSF'] + df['2ndFlrSF']\n",
    "\n",
    "# 正規化    \n",
    "numeric_features = df.dtypes[df.dtypes != \"object\"].index\n",
    "# 歪みを数値化\n",
    "skewed_features = df[numeric_features].apply(lambda x: skew(x)).sort_values(ascending=False)\n",
    "high_skewness = skewed_features[abs(skewed_features) > 0.75]\n",
    "skewed_features = high_skewness.index\n",
    "\n",
    "# 0.9以上のものを補正をかける\n",
    "for feature in skewed_features:\n",
    "    if feature != 'SalePrice': \n",
    "        df[feature] = boxcox1p(df[feature], 0.15)\n",
    "\n",
    "# one-hot-Encoding\n",
    "df = pd.get_dummies(df)\n",
    "\n",
    "# 訓練データを作成\n",
    "y = np.log1p(df[:df_train.shape[0]]['SalePrice'])\n",
    "X = df[:df_train.shape[0]].drop(['SalePrice'], axis=1)\n",
    "\n",
    "# 検証\n",
    "from sklearn.model_selection import train_test_split\n",
    "X_train, X_test, y_train, y_test = train_test_split(X, y, test_size=0.25, random_state=1)"
   ],
   "outputs": [],
   "metadata": {}
  },
  {
   "cell_type": "code",
   "execution_count": null,
   "source": [
    "X.head()"
   ],
   "outputs": [],
   "metadata": {}
  },
  {
   "cell_type": "markdown",
   "source": [
    "## RSME"
   ],
   "metadata": {}
  },
  {
   "cell_type": "code",
   "execution_count": null,
   "source": [
    "def rmse(y_true,y_pred):\n",
    "    #RMSEを算出\n",
    "    rmse = np.sqrt(mean_squared_error(y_true,y_pred))\n",
    "    return rmse"
   ],
   "outputs": [],
   "metadata": {}
  },
  {
   "cell_type": "markdown",
   "source": [
    "## MAKE MODEL AND FIT (XGBOOST)"
   ],
   "metadata": {}
  },
  {
   "cell_type": "code",
   "execution_count": null,
   "source": [
    "import copy\n",
    "import optuna\n",
    "from sklearn.model_selection import cross_validate\n",
    "\n",
    "trains = xgb.DMatrix(X_train, label=y_train)\n",
    "tests = xgb.DMatrix(X_test, label=y_test)\n",
    "\n",
    "base_params = {\n",
    "    'booster': 'gbtree',\n",
    "    'objective': 'reg:squarederror',\n",
    "    'eval_metric': 'rmse',\n",
    "}\n",
    "\n",
    "tmp_params = copy.deepcopy(base_params)\n",
    "\n",
    "watchlist = [(X_train, 'train'), (X_test, 'eval')]\n",
    "\n",
    "def optimizer(trial):\n",
    "    eta =  trial.suggest_loguniform('eta', 1e-8, 1.0)\n",
    "    gamma = trial.suggest_loguniform('gamma', 1e-8, 1.0)\n",
    "    max_depth = trial.suggest_int('max_depth', 1, 20)\n",
    "    min_child_weight = trial.suggest_loguniform('min_child_weight', 1e-8, 1.0)\n",
    "    max_delta_step = trial.suggest_loguniform('max_delta_step', 1e-8, 1.0)\n",
    "    subsample = trial.suggest_uniform('subsample', 0.0, 1.0)\n",
    "    reg_lambda = trial.suggest_uniform('reg_lambda', 0.0, 1000.0)\n",
    "    reg_alpha = trial.suggest_uniform('reg_alpha', 0.0, 1000.0)\n",
    "\n",
    "\n",
    "    regr = xgb.XGBRegressor(eta = eta, gamma = gamma, max_depth = max_depth,\n",
    "                           min_child_weight = min_child_weight, max_delta_step = max_delta_step,\n",
    "                           subsample = subsample,reg_lambda = reg_lambda,reg_alpha = reg_alpha)\n",
    "    score_funcs = {\n",
    "        'rmse': make_scorer(rmse),  # make_scorer() でラップする\n",
    "    }\n",
    "    scores = cross_validate(regr, X_train, y_train, cv=5, scoring=score_funcs)\n",
    "    print(scores)\n",
    "    mean_rmse = scores['test_rmse'].mean()\n",
    "    return mean_rmse\n",
    "\n",
    "#study = optuna.create_study(direction='minimize')\n",
    "#study.optimize(optimizer, n_trials=500)"
   ],
   "outputs": [],
   "metadata": {}
  },
  {
   "cell_type": "code",
   "execution_count": null,
   "source": [
    "#study.best_params"
   ],
   "outputs": [],
   "metadata": {}
  },
  {
   "cell_type": "code",
   "execution_count": null,
   "source": [
    "pipeline = make_pipeline(RobustScaler(), xgb.XGBRegressor(eta=0.6752981403332644, \n",
    "                                                          gamma=0.00019806565556055886, \n",
    "                                                          max_depth=2, \n",
    "                                                          min_child_weight=0.0001309781675638748, \n",
    "                                                          max_delta_step=0.3034212265985207,\n",
    "                                                          subsample=0.5268559375798426,\n",
    "                                                          reg_lambda=43.32176448126586,\n",
    "                                                          reg_alpha=0.33670821989661315))\n",
    "#pipeline = make_pipeline(RobustScaler(), xgb.XGBRegressor())\n",
    "\n",
    "#params = {'xgbregressor__gamma':[0.001, 0.1, 1, 10, 100],\n",
    "#          'xgbregressor__max_depth':[2,4,6,8,10],\n",
    "#          'xgbregressor__learning_rate':[0.0001, 0.001, 0.01],\n",
    "#          'xgbregressor__n_estimators':[10, 100, 1000]}\n",
    "\n",
    "#if DEBUG:\n",
    "#    params = {'xgbregressor__gamma':[0.001, 0.1, 1, 10, 100]}\n",
    "\n",
    "#gd = GridSearchCV(estimator=pipeline, param_grid=params, cv=5, scoring=make_scorer(rmse,greater_is_better=False))\n",
    "pipeline.fit(X_train, y_train)\n",
    "xgboost = pipeline"
   ],
   "outputs": [],
   "metadata": {}
  },
  {
   "cell_type": "markdown",
   "source": [
    "## BEST PARAM(XGBOOST)"
   ],
   "metadata": {}
  },
  {
   "cell_type": "code",
   "execution_count": null,
   "source": [
    "#gd.best_params_"
   ],
   "outputs": [],
   "metadata": {}
  },
  {
   "cell_type": "markdown",
   "source": [
    "## MAKE MODEL AND FIT (LIGHT BGM)"
   ],
   "metadata": {}
  },
  {
   "cell_type": "code",
   "execution_count": null,
   "source": [
    "import optuna.integration.lightgbm as lgbo\n",
    "opt_params = { \"objective\":\"regression\", \"metric\":\"rmse\"}\n",
    "reg_train = lgbm.Dataset(X_train, y_train)\n",
    "reg_eval = lgbm.Dataset(X_test, y_test, reference=reg_train)\n",
    "\n",
    "#opt=lgbo.train(opt_params, reg_train, valid_sets = reg_eval, verbose_eval=False, num_boost_round = 5)"
   ],
   "outputs": [],
   "metadata": {}
  },
  {
   "cell_type": "code",
   "execution_count": null,
   "source": [
    "#opt.params"
   ],
   "outputs": [],
   "metadata": {}
  },
  {
   "cell_type": "code",
   "execution_count": null,
   "source": [
    "\"\"\"\n",
    "{'objective': 'regression',\n",
    " 'metric': 'rmse',\n",
    " 'feature_pre_filter': False,\n",
    " 'lambda_l1': 0.0,\n",
    " 'lambda_l2': 0.0,\n",
    " 'num_leaves': 85,\n",
    " 'feature_fraction': 0.6,\n",
    " 'bagging_fraction': 0.5374366835020357,\n",
    " 'bagging_freq': 3,\n",
    " 'min_child_samples': 5}\n",
    "\"\"\"\n",
    "pipeline = make_pipeline(lgbm.LGBMRegressor(objective='regression', \n",
    "                                                            num_leaves=85, \n",
    "                                                            feature_fraction=0.6, \n",
    "                                                            bagging_fraction=0.5374366835020357, \n",
    "                                                            bagging_freq=3, \n",
    "                                                            min_child_samples=5, \n",
    "                                                            max_depth=2,\n",
    "                                                            feature_pre_filter=False))\n",
    "pipeline.fit(X_train, y_train)\n",
    "lightbgm = pipeline"
   ],
   "outputs": [],
   "metadata": {}
  },
  {
   "cell_type": "markdown",
   "source": [
    "## BEST PARAMS(LIGHTBGM)"
   ],
   "metadata": {}
  },
  {
   "cell_type": "code",
   "execution_count": null,
   "source": [
    "#gd.best_params_"
   ],
   "outputs": [],
   "metadata": {}
  },
  {
   "cell_type": "markdown",
   "source": [
    "## Gradient Boosting regressor"
   ],
   "metadata": {}
  },
  {
   "cell_type": "code",
   "execution_count": null,
   "source": [
    "from sklearn.ensemble import GradientBoostingRegressor \n",
    "gbr = GradientBoostingRegressor(n_estimators=3000, learning_rate=0.05, max_depth=2, max_features='sqrt', min_samples_leaf=5, min_samples_split=5, loss='huber', random_state =1)  \n",
    "gbr.fit(X_train, y_train)"
   ],
   "outputs": [],
   "metadata": {}
  },
  {
   "cell_type": "markdown",
   "source": [
    "## Lasso"
   ],
   "metadata": {}
  },
  {
   "cell_type": "code",
   "execution_count": null,
   "source": [
    "from sklearn.linear_model import Lasso\n",
    "lasso = make_pipeline(RobustScaler(), Lasso(0.0001))\n",
    "lasso.fit(X_train, y_train)"
   ],
   "outputs": [],
   "metadata": {}
  },
  {
   "cell_type": "markdown",
   "source": [
    "## Ridge"
   ],
   "metadata": {}
  },
  {
   "cell_type": "code",
   "execution_count": null,
   "source": [
    "from sklearn.linear_model import Ridge\n",
    "ridge = make_pipeline(RobustScaler(), Ridge(0.1))\n",
    "ridge.fit(X_train, y_train)"
   ],
   "outputs": [],
   "metadata": {}
  },
  {
   "cell_type": "markdown",
   "source": [
    "## Random Forest Regressor"
   ],
   "metadata": {}
  },
  {
   "cell_type": "code",
   "execution_count": 234,
   "source": [
    "def objective(trial):\n",
    "    criterion = trial.suggest_categorical('criterion', ['mse', 'mae'])\n",
    "    bootstrap = trial.suggest_categorical('bootstrap',['True','False'])\n",
    "    max_depth = trial.suggest_int('max_depth', 1, 1000)\n",
    "    max_features = trial.suggest_categorical('max_features', ['auto', 'sqrt','log2'])\n",
    "    max_leaf_nodes = trial.suggest_int('max_leaf_nodes', 1,1000)\n",
    "    n_estimators =  trial.suggest_int('n_estimators', 1, 1000)\n",
    "    min_samples_split = trial.suggest_int('min_samples_split',2,5)\n",
    "    min_samples_leaf = trial.suggest_int('min_samples_leaf',1,10)\n",
    "\n",
    "    regr = RandomForestRegressor(bootstrap = bootstrap, criterion = criterion,\n",
    "                                 max_depth = max_depth, max_features = max_features,\n",
    "                                 max_leaf_nodes = max_leaf_nodes,n_estimators = n_estimators,\n",
    "                                 min_samples_split = min_samples_split,min_samples_leaf = min_samples_leaf,\n",
    "                                 n_jobs=2)\n",
    "\n",
    "    score_funcs = {\n",
    "        'rmse': make_scorer(rmse),  # make_scorer() でラップする\n",
    "    }\n",
    "    scores = cross_validate(regr, X_train, y_train, cv=5, scoring=score_funcs)\n",
    "    print(scores)\n",
    "    mean_rmse = scores['test_rmse'].mean()\n",
    "    return mean_rmse\n",
    "    print(r2_mean)\n",
    "\n",
    "    return r2_mean\n",
    "#optunaで学習\n",
    "study = optuna.create_study(direction='maximize')\n",
    "study.optimize(objective, n_trials=100)"
   ],
   "outputs": [
    {
     "output_type": "stream",
     "name": "stderr",
     "text": [
      "\u001b[32m[I 2021-07-31 22:44:10,237]\u001b[0m A new study created in memory with name: no-name-6a3641fd-4ed7-4111-9d1d-1d047a322ff7\u001b[0m\n",
      "\u001b[32m[I 2021-07-31 22:44:14,350]\u001b[0m Trial 0 finished with value: 0.1607432324457359 and parameters: {'criterion': 'mse', 'bootstrap': 'False', 'max_depth': 882, 'max_features': 'log2', 'max_leaf_nodes': 95, 'n_estimators': 332, 'min_samples_split': 4, 'min_samples_leaf': 2}. Best is trial 0 with value: 0.1607432324457359.\u001b[0m\n"
     ]
    },
    {
     "output_type": "stream",
     "name": "stdout",
     "text": [
      "{'fit_time': array([1.66157317, 0.5359261 , 0.532758  , 0.53632593, 0.54484892]), 'score_time': array([0.06348991, 0.05941892, 0.05288696, 0.05624604, 0.05628109]), 'test_rmse': array([0.15781591, 0.16278398, 0.14188885, 0.1847933 , 0.15643413])}\n"
     ]
    },
    {
     "output_type": "stream",
     "name": "stderr",
     "text": [
      "\u001b[32m[I 2021-07-31 22:44:30,496]\u001b[0m Trial 1 finished with value: 0.17104335757174122 and parameters: {'criterion': 'mae', 'bootstrap': 'True', 'max_depth': 342, 'max_features': 'log2', 'max_leaf_nodes': 86, 'n_estimators': 479, 'min_samples_split': 2, 'min_samples_leaf': 3}. Best is trial 1 with value: 0.17104335757174122.\u001b[0m\n"
     ]
    },
    {
     "output_type": "stream",
     "name": "stdout",
     "text": [
      "{'fit_time': array([3.0931468 , 3.15829992, 3.10287809, 3.21220279, 3.14251018]), 'score_time': array([0.08883905, 0.08278513, 0.08526707, 0.08225703, 0.08641791]), 'test_rmse': array([0.16674365, 0.17112322, 0.15563814, 0.19611188, 0.16559989])}\n"
     ]
    },
    {
     "output_type": "error",
     "ename": "KeyboardInterrupt",
     "evalue": "",
     "traceback": [
      "\u001b[0;31m---------------------------------------------------------------------------\u001b[0m",
      "\u001b[0;31mKeyboardInterrupt\u001b[0m                         Traceback (most recent call last)",
      "\u001b[0;32m<ipython-input-234-2d310f966f7d>\u001b[0m in \u001b[0;36m<module>\u001b[0;34m\u001b[0m\n\u001b[1;32m     27\u001b[0m \u001b[0;31m#optunaで学習\u001b[0m\u001b[0;34m\u001b[0m\u001b[0;34m\u001b[0m\u001b[0;34m\u001b[0m\u001b[0m\n\u001b[1;32m     28\u001b[0m \u001b[0mstudy\u001b[0m \u001b[0;34m=\u001b[0m \u001b[0moptuna\u001b[0m\u001b[0;34m.\u001b[0m\u001b[0mcreate_study\u001b[0m\u001b[0;34m(\u001b[0m\u001b[0mdirection\u001b[0m\u001b[0;34m=\u001b[0m\u001b[0;34m'maximize'\u001b[0m\u001b[0;34m)\u001b[0m\u001b[0;34m\u001b[0m\u001b[0;34m\u001b[0m\u001b[0m\n\u001b[0;32m---> 29\u001b[0;31m \u001b[0mstudy\u001b[0m\u001b[0;34m.\u001b[0m\u001b[0moptimize\u001b[0m\u001b[0;34m(\u001b[0m\u001b[0mobjective\u001b[0m\u001b[0;34m,\u001b[0m \u001b[0mn_trials\u001b[0m\u001b[0;34m=\u001b[0m\u001b[0;36m100\u001b[0m\u001b[0;34m)\u001b[0m\u001b[0;34m\u001b[0m\u001b[0;34m\u001b[0m\u001b[0m\n\u001b[0m",
      "\u001b[0;32m/opt/anaconda3/lib/python3.8/site-packages/optuna/study.py\u001b[0m in \u001b[0;36moptimize\u001b[0;34m(self, func, n_trials, timeout, n_jobs, catch, callbacks, gc_after_trial, show_progress_bar)\u001b[0m\n\u001b[1;32m    399\u001b[0m             )\n\u001b[1;32m    400\u001b[0m \u001b[0;34m\u001b[0m\u001b[0m\n\u001b[0;32m--> 401\u001b[0;31m         _optimize(\n\u001b[0m\u001b[1;32m    402\u001b[0m             \u001b[0mstudy\u001b[0m\u001b[0;34m=\u001b[0m\u001b[0mself\u001b[0m\u001b[0;34m,\u001b[0m\u001b[0;34m\u001b[0m\u001b[0;34m\u001b[0m\u001b[0m\n\u001b[1;32m    403\u001b[0m             \u001b[0mfunc\u001b[0m\u001b[0;34m=\u001b[0m\u001b[0mfunc\u001b[0m\u001b[0;34m,\u001b[0m\u001b[0;34m\u001b[0m\u001b[0;34m\u001b[0m\u001b[0m\n",
      "\u001b[0;32m/opt/anaconda3/lib/python3.8/site-packages/optuna/_optimize.py\u001b[0m in \u001b[0;36m_optimize\u001b[0;34m(study, func, n_trials, timeout, n_jobs, catch, callbacks, gc_after_trial, show_progress_bar)\u001b[0m\n\u001b[1;32m     63\u001b[0m     \u001b[0;32mtry\u001b[0m\u001b[0;34m:\u001b[0m\u001b[0;34m\u001b[0m\u001b[0;34m\u001b[0m\u001b[0m\n\u001b[1;32m     64\u001b[0m         \u001b[0;32mif\u001b[0m \u001b[0mn_jobs\u001b[0m \u001b[0;34m==\u001b[0m \u001b[0;36m1\u001b[0m\u001b[0;34m:\u001b[0m\u001b[0;34m\u001b[0m\u001b[0;34m\u001b[0m\u001b[0m\n\u001b[0;32m---> 65\u001b[0;31m             _optimize_sequential(\n\u001b[0m\u001b[1;32m     66\u001b[0m                 \u001b[0mstudy\u001b[0m\u001b[0;34m,\u001b[0m\u001b[0;34m\u001b[0m\u001b[0;34m\u001b[0m\u001b[0m\n\u001b[1;32m     67\u001b[0m                 \u001b[0mfunc\u001b[0m\u001b[0;34m,\u001b[0m\u001b[0;34m\u001b[0m\u001b[0;34m\u001b[0m\u001b[0m\n",
      "\u001b[0;32m/opt/anaconda3/lib/python3.8/site-packages/optuna/_optimize.py\u001b[0m in \u001b[0;36m_optimize_sequential\u001b[0;34m(study, func, n_trials, timeout, catch, callbacks, gc_after_trial, reseed_sampler_rng, time_start, progress_bar)\u001b[0m\n\u001b[1;32m    160\u001b[0m \u001b[0;34m\u001b[0m\u001b[0m\n\u001b[1;32m    161\u001b[0m         \u001b[0;32mtry\u001b[0m\u001b[0;34m:\u001b[0m\u001b[0;34m\u001b[0m\u001b[0;34m\u001b[0m\u001b[0m\n\u001b[0;32m--> 162\u001b[0;31m             \u001b[0mtrial\u001b[0m \u001b[0;34m=\u001b[0m \u001b[0m_run_trial\u001b[0m\u001b[0;34m(\u001b[0m\u001b[0mstudy\u001b[0m\u001b[0;34m,\u001b[0m \u001b[0mfunc\u001b[0m\u001b[0;34m,\u001b[0m \u001b[0mcatch\u001b[0m\u001b[0;34m)\u001b[0m\u001b[0;34m\u001b[0m\u001b[0;34m\u001b[0m\u001b[0m\n\u001b[0m\u001b[1;32m    163\u001b[0m         \u001b[0;32mexcept\u001b[0m \u001b[0mException\u001b[0m\u001b[0;34m:\u001b[0m\u001b[0;34m\u001b[0m\u001b[0;34m\u001b[0m\u001b[0m\n\u001b[1;32m    164\u001b[0m             \u001b[0;32mraise\u001b[0m\u001b[0;34m\u001b[0m\u001b[0;34m\u001b[0m\u001b[0m\n",
      "\u001b[0;32m/opt/anaconda3/lib/python3.8/site-packages/optuna/_optimize.py\u001b[0m in \u001b[0;36m_run_trial\u001b[0;34m(study, func, catch)\u001b[0m\n\u001b[1;32m    214\u001b[0m \u001b[0;34m\u001b[0m\u001b[0m\n\u001b[1;32m    215\u001b[0m     \u001b[0;32mtry\u001b[0m\u001b[0;34m:\u001b[0m\u001b[0;34m\u001b[0m\u001b[0;34m\u001b[0m\u001b[0m\n\u001b[0;32m--> 216\u001b[0;31m         \u001b[0mvalue_or_values\u001b[0m \u001b[0;34m=\u001b[0m \u001b[0mfunc\u001b[0m\u001b[0;34m(\u001b[0m\u001b[0mtrial\u001b[0m\u001b[0;34m)\u001b[0m\u001b[0;34m\u001b[0m\u001b[0;34m\u001b[0m\u001b[0m\n\u001b[0m\u001b[1;32m    217\u001b[0m     \u001b[0;32mexcept\u001b[0m \u001b[0mexceptions\u001b[0m\u001b[0;34m.\u001b[0m\u001b[0mTrialPruned\u001b[0m \u001b[0;32mas\u001b[0m \u001b[0me\u001b[0m\u001b[0;34m:\u001b[0m\u001b[0;34m\u001b[0m\u001b[0;34m\u001b[0m\u001b[0m\n\u001b[1;32m    218\u001b[0m         \u001b[0;31m# TODO(mamu): Handle multi-objective cases.\u001b[0m\u001b[0;34m\u001b[0m\u001b[0;34m\u001b[0m\u001b[0;34m\u001b[0m\u001b[0m\n",
      "\u001b[0;32m<ipython-input-234-2d310f966f7d>\u001b[0m in \u001b[0;36mobjective\u001b[0;34m(trial)\u001b[0m\n\u001b[1;32m     18\u001b[0m         \u001b[0;34m'rmse'\u001b[0m\u001b[0;34m:\u001b[0m \u001b[0mmake_scorer\u001b[0m\u001b[0;34m(\u001b[0m\u001b[0mrmse\u001b[0m\u001b[0;34m)\u001b[0m\u001b[0;34m,\u001b[0m  \u001b[0;31m# make_scorer() でラップする\u001b[0m\u001b[0;34m\u001b[0m\u001b[0;34m\u001b[0m\u001b[0m\n\u001b[1;32m     19\u001b[0m     }\n\u001b[0;32m---> 20\u001b[0;31m     \u001b[0mscores\u001b[0m \u001b[0;34m=\u001b[0m \u001b[0mcross_validate\u001b[0m\u001b[0;34m(\u001b[0m\u001b[0mregr\u001b[0m\u001b[0;34m,\u001b[0m \u001b[0mX_train\u001b[0m\u001b[0;34m,\u001b[0m \u001b[0my_train\u001b[0m\u001b[0;34m,\u001b[0m \u001b[0mcv\u001b[0m\u001b[0;34m=\u001b[0m\u001b[0;36m5\u001b[0m\u001b[0;34m,\u001b[0m \u001b[0mscoring\u001b[0m\u001b[0;34m=\u001b[0m\u001b[0mscore_funcs\u001b[0m\u001b[0;34m)\u001b[0m\u001b[0;34m\u001b[0m\u001b[0;34m\u001b[0m\u001b[0m\n\u001b[0m\u001b[1;32m     21\u001b[0m     \u001b[0mprint\u001b[0m\u001b[0;34m(\u001b[0m\u001b[0mscores\u001b[0m\u001b[0;34m)\u001b[0m\u001b[0;34m\u001b[0m\u001b[0;34m\u001b[0m\u001b[0m\n\u001b[1;32m     22\u001b[0m     \u001b[0mmean_rmse\u001b[0m \u001b[0;34m=\u001b[0m \u001b[0mscores\u001b[0m\u001b[0;34m[\u001b[0m\u001b[0;34m'test_rmse'\u001b[0m\u001b[0;34m]\u001b[0m\u001b[0;34m.\u001b[0m\u001b[0mmean\u001b[0m\u001b[0;34m(\u001b[0m\u001b[0;34m)\u001b[0m\u001b[0;34m\u001b[0m\u001b[0;34m\u001b[0m\u001b[0m\n",
      "\u001b[0;32m/opt/anaconda3/lib/python3.8/site-packages/sklearn/utils/validation.py\u001b[0m in \u001b[0;36minner_f\u001b[0;34m(*args, **kwargs)\u001b[0m\n\u001b[1;32m     71\u001b[0m                           FutureWarning)\n\u001b[1;32m     72\u001b[0m         \u001b[0mkwargs\u001b[0m\u001b[0;34m.\u001b[0m\u001b[0mupdate\u001b[0m\u001b[0;34m(\u001b[0m\u001b[0;34m{\u001b[0m\u001b[0mk\u001b[0m\u001b[0;34m:\u001b[0m \u001b[0marg\u001b[0m \u001b[0;32mfor\u001b[0m \u001b[0mk\u001b[0m\u001b[0;34m,\u001b[0m \u001b[0marg\u001b[0m \u001b[0;32min\u001b[0m \u001b[0mzip\u001b[0m\u001b[0;34m(\u001b[0m\u001b[0msig\u001b[0m\u001b[0;34m.\u001b[0m\u001b[0mparameters\u001b[0m\u001b[0;34m,\u001b[0m \u001b[0margs\u001b[0m\u001b[0;34m)\u001b[0m\u001b[0;34m}\u001b[0m\u001b[0;34m)\u001b[0m\u001b[0;34m\u001b[0m\u001b[0;34m\u001b[0m\u001b[0m\n\u001b[0;32m---> 73\u001b[0;31m         \u001b[0;32mreturn\u001b[0m \u001b[0mf\u001b[0m\u001b[0;34m(\u001b[0m\u001b[0;34m**\u001b[0m\u001b[0mkwargs\u001b[0m\u001b[0;34m)\u001b[0m\u001b[0;34m\u001b[0m\u001b[0;34m\u001b[0m\u001b[0m\n\u001b[0m\u001b[1;32m     74\u001b[0m     \u001b[0;32mreturn\u001b[0m \u001b[0minner_f\u001b[0m\u001b[0;34m\u001b[0m\u001b[0;34m\u001b[0m\u001b[0m\n\u001b[1;32m     75\u001b[0m \u001b[0;34m\u001b[0m\u001b[0m\n",
      "\u001b[0;32m/opt/anaconda3/lib/python3.8/site-packages/sklearn/model_selection/_validation.py\u001b[0m in \u001b[0;36mcross_validate\u001b[0;34m(estimator, X, y, groups, scoring, cv, n_jobs, verbose, fit_params, pre_dispatch, return_train_score, return_estimator, error_score)\u001b[0m\n\u001b[1;32m    240\u001b[0m     parallel = Parallel(n_jobs=n_jobs, verbose=verbose,\n\u001b[1;32m    241\u001b[0m                         pre_dispatch=pre_dispatch)\n\u001b[0;32m--> 242\u001b[0;31m     scores = parallel(\n\u001b[0m\u001b[1;32m    243\u001b[0m         delayed(_fit_and_score)(\n\u001b[1;32m    244\u001b[0m             \u001b[0mclone\u001b[0m\u001b[0;34m(\u001b[0m\u001b[0mestimator\u001b[0m\u001b[0;34m)\u001b[0m\u001b[0;34m,\u001b[0m \u001b[0mX\u001b[0m\u001b[0;34m,\u001b[0m \u001b[0my\u001b[0m\u001b[0;34m,\u001b[0m \u001b[0mscorers\u001b[0m\u001b[0;34m,\u001b[0m \u001b[0mtrain\u001b[0m\u001b[0;34m,\u001b[0m \u001b[0mtest\u001b[0m\u001b[0;34m,\u001b[0m \u001b[0mverbose\u001b[0m\u001b[0;34m,\u001b[0m \u001b[0;32mNone\u001b[0m\u001b[0;34m,\u001b[0m\u001b[0;34m\u001b[0m\u001b[0;34m\u001b[0m\u001b[0m\n",
      "\u001b[0;32m/opt/anaconda3/lib/python3.8/site-packages/joblib/parallel.py\u001b[0m in \u001b[0;36m__call__\u001b[0;34m(self, iterable)\u001b[0m\n\u001b[1;32m   1042\u001b[0m                 \u001b[0mself\u001b[0m\u001b[0;34m.\u001b[0m\u001b[0m_iterating\u001b[0m \u001b[0;34m=\u001b[0m \u001b[0mself\u001b[0m\u001b[0;34m.\u001b[0m\u001b[0m_original_iterator\u001b[0m \u001b[0;32mis\u001b[0m \u001b[0;32mnot\u001b[0m \u001b[0;32mNone\u001b[0m\u001b[0;34m\u001b[0m\u001b[0;34m\u001b[0m\u001b[0m\n\u001b[1;32m   1043\u001b[0m \u001b[0;34m\u001b[0m\u001b[0m\n\u001b[0;32m-> 1044\u001b[0;31m             \u001b[0;32mwhile\u001b[0m \u001b[0mself\u001b[0m\u001b[0;34m.\u001b[0m\u001b[0mdispatch_one_batch\u001b[0m\u001b[0;34m(\u001b[0m\u001b[0miterator\u001b[0m\u001b[0;34m)\u001b[0m\u001b[0;34m:\u001b[0m\u001b[0;34m\u001b[0m\u001b[0;34m\u001b[0m\u001b[0m\n\u001b[0m\u001b[1;32m   1045\u001b[0m                 \u001b[0;32mpass\u001b[0m\u001b[0;34m\u001b[0m\u001b[0;34m\u001b[0m\u001b[0m\n\u001b[1;32m   1046\u001b[0m \u001b[0;34m\u001b[0m\u001b[0m\n",
      "\u001b[0;32m/opt/anaconda3/lib/python3.8/site-packages/joblib/parallel.py\u001b[0m in \u001b[0;36mdispatch_one_batch\u001b[0;34m(self, iterator)\u001b[0m\n\u001b[1;32m    857\u001b[0m                 \u001b[0;32mreturn\u001b[0m \u001b[0;32mFalse\u001b[0m\u001b[0;34m\u001b[0m\u001b[0;34m\u001b[0m\u001b[0m\n\u001b[1;32m    858\u001b[0m             \u001b[0;32melse\u001b[0m\u001b[0;34m:\u001b[0m\u001b[0;34m\u001b[0m\u001b[0;34m\u001b[0m\u001b[0m\n\u001b[0;32m--> 859\u001b[0;31m                 \u001b[0mself\u001b[0m\u001b[0;34m.\u001b[0m\u001b[0m_dispatch\u001b[0m\u001b[0;34m(\u001b[0m\u001b[0mtasks\u001b[0m\u001b[0;34m)\u001b[0m\u001b[0;34m\u001b[0m\u001b[0;34m\u001b[0m\u001b[0m\n\u001b[0m\u001b[1;32m    860\u001b[0m                 \u001b[0;32mreturn\u001b[0m \u001b[0;32mTrue\u001b[0m\u001b[0;34m\u001b[0m\u001b[0;34m\u001b[0m\u001b[0m\n\u001b[1;32m    861\u001b[0m \u001b[0;34m\u001b[0m\u001b[0m\n",
      "\u001b[0;32m/opt/anaconda3/lib/python3.8/site-packages/joblib/parallel.py\u001b[0m in \u001b[0;36m_dispatch\u001b[0;34m(self, batch)\u001b[0m\n\u001b[1;32m    775\u001b[0m         \u001b[0;32mwith\u001b[0m \u001b[0mself\u001b[0m\u001b[0;34m.\u001b[0m\u001b[0m_lock\u001b[0m\u001b[0;34m:\u001b[0m\u001b[0;34m\u001b[0m\u001b[0;34m\u001b[0m\u001b[0m\n\u001b[1;32m    776\u001b[0m             \u001b[0mjob_idx\u001b[0m \u001b[0;34m=\u001b[0m \u001b[0mlen\u001b[0m\u001b[0;34m(\u001b[0m\u001b[0mself\u001b[0m\u001b[0;34m.\u001b[0m\u001b[0m_jobs\u001b[0m\u001b[0;34m)\u001b[0m\u001b[0;34m\u001b[0m\u001b[0;34m\u001b[0m\u001b[0m\n\u001b[0;32m--> 777\u001b[0;31m             \u001b[0mjob\u001b[0m \u001b[0;34m=\u001b[0m \u001b[0mself\u001b[0m\u001b[0;34m.\u001b[0m\u001b[0m_backend\u001b[0m\u001b[0;34m.\u001b[0m\u001b[0mapply_async\u001b[0m\u001b[0;34m(\u001b[0m\u001b[0mbatch\u001b[0m\u001b[0;34m,\u001b[0m \u001b[0mcallback\u001b[0m\u001b[0;34m=\u001b[0m\u001b[0mcb\u001b[0m\u001b[0;34m)\u001b[0m\u001b[0;34m\u001b[0m\u001b[0;34m\u001b[0m\u001b[0m\n\u001b[0m\u001b[1;32m    778\u001b[0m             \u001b[0;31m# A job can complete so quickly than its callback is\u001b[0m\u001b[0;34m\u001b[0m\u001b[0;34m\u001b[0m\u001b[0;34m\u001b[0m\u001b[0m\n\u001b[1;32m    779\u001b[0m             \u001b[0;31m# called before we get here, causing self._jobs to\u001b[0m\u001b[0;34m\u001b[0m\u001b[0;34m\u001b[0m\u001b[0;34m\u001b[0m\u001b[0m\n",
      "\u001b[0;32m/opt/anaconda3/lib/python3.8/site-packages/joblib/_parallel_backends.py\u001b[0m in \u001b[0;36mapply_async\u001b[0;34m(self, func, callback)\u001b[0m\n\u001b[1;32m    206\u001b[0m     \u001b[0;32mdef\u001b[0m \u001b[0mapply_async\u001b[0m\u001b[0;34m(\u001b[0m\u001b[0mself\u001b[0m\u001b[0;34m,\u001b[0m \u001b[0mfunc\u001b[0m\u001b[0;34m,\u001b[0m \u001b[0mcallback\u001b[0m\u001b[0;34m=\u001b[0m\u001b[0;32mNone\u001b[0m\u001b[0;34m)\u001b[0m\u001b[0;34m:\u001b[0m\u001b[0;34m\u001b[0m\u001b[0;34m\u001b[0m\u001b[0m\n\u001b[1;32m    207\u001b[0m         \u001b[0;34m\"\"\"Schedule a func to be run\"\"\"\u001b[0m\u001b[0;34m\u001b[0m\u001b[0;34m\u001b[0m\u001b[0m\n\u001b[0;32m--> 208\u001b[0;31m         \u001b[0mresult\u001b[0m \u001b[0;34m=\u001b[0m \u001b[0mImmediateResult\u001b[0m\u001b[0;34m(\u001b[0m\u001b[0mfunc\u001b[0m\u001b[0;34m)\u001b[0m\u001b[0;34m\u001b[0m\u001b[0;34m\u001b[0m\u001b[0m\n\u001b[0m\u001b[1;32m    209\u001b[0m         \u001b[0;32mif\u001b[0m \u001b[0mcallback\u001b[0m\u001b[0;34m:\u001b[0m\u001b[0;34m\u001b[0m\u001b[0;34m\u001b[0m\u001b[0m\n\u001b[1;32m    210\u001b[0m             \u001b[0mcallback\u001b[0m\u001b[0;34m(\u001b[0m\u001b[0mresult\u001b[0m\u001b[0;34m)\u001b[0m\u001b[0;34m\u001b[0m\u001b[0;34m\u001b[0m\u001b[0m\n",
      "\u001b[0;32m/opt/anaconda3/lib/python3.8/site-packages/joblib/_parallel_backends.py\u001b[0m in \u001b[0;36m__init__\u001b[0;34m(self, batch)\u001b[0m\n\u001b[1;32m    570\u001b[0m         \u001b[0;31m# Don't delay the application, to avoid keeping the input\u001b[0m\u001b[0;34m\u001b[0m\u001b[0;34m\u001b[0m\u001b[0;34m\u001b[0m\u001b[0m\n\u001b[1;32m    571\u001b[0m         \u001b[0;31m# arguments in memory\u001b[0m\u001b[0;34m\u001b[0m\u001b[0;34m\u001b[0m\u001b[0;34m\u001b[0m\u001b[0m\n\u001b[0;32m--> 572\u001b[0;31m         \u001b[0mself\u001b[0m\u001b[0;34m.\u001b[0m\u001b[0mresults\u001b[0m \u001b[0;34m=\u001b[0m \u001b[0mbatch\u001b[0m\u001b[0;34m(\u001b[0m\u001b[0;34m)\u001b[0m\u001b[0;34m\u001b[0m\u001b[0;34m\u001b[0m\u001b[0m\n\u001b[0m\u001b[1;32m    573\u001b[0m \u001b[0;34m\u001b[0m\u001b[0m\n\u001b[1;32m    574\u001b[0m     \u001b[0;32mdef\u001b[0m \u001b[0mget\u001b[0m\u001b[0;34m(\u001b[0m\u001b[0mself\u001b[0m\u001b[0;34m)\u001b[0m\u001b[0;34m:\u001b[0m\u001b[0;34m\u001b[0m\u001b[0;34m\u001b[0m\u001b[0m\n",
      "\u001b[0;32m/opt/anaconda3/lib/python3.8/site-packages/joblib/parallel.py\u001b[0m in \u001b[0;36m__call__\u001b[0;34m(self)\u001b[0m\n\u001b[1;32m    260\u001b[0m         \u001b[0;31m# change the default number of processes to -1\u001b[0m\u001b[0;34m\u001b[0m\u001b[0;34m\u001b[0m\u001b[0;34m\u001b[0m\u001b[0m\n\u001b[1;32m    261\u001b[0m         \u001b[0;32mwith\u001b[0m \u001b[0mparallel_backend\u001b[0m\u001b[0;34m(\u001b[0m\u001b[0mself\u001b[0m\u001b[0;34m.\u001b[0m\u001b[0m_backend\u001b[0m\u001b[0;34m,\u001b[0m \u001b[0mn_jobs\u001b[0m\u001b[0;34m=\u001b[0m\u001b[0mself\u001b[0m\u001b[0;34m.\u001b[0m\u001b[0m_n_jobs\u001b[0m\u001b[0;34m)\u001b[0m\u001b[0;34m:\u001b[0m\u001b[0;34m\u001b[0m\u001b[0;34m\u001b[0m\u001b[0m\n\u001b[0;32m--> 262\u001b[0;31m             return [func(*args, **kwargs)\n\u001b[0m\u001b[1;32m    263\u001b[0m                     for func, args, kwargs in self.items]\n\u001b[1;32m    264\u001b[0m \u001b[0;34m\u001b[0m\u001b[0m\n",
      "\u001b[0;32m/opt/anaconda3/lib/python3.8/site-packages/joblib/parallel.py\u001b[0m in \u001b[0;36m<listcomp>\u001b[0;34m(.0)\u001b[0m\n\u001b[1;32m    260\u001b[0m         \u001b[0;31m# change the default number of processes to -1\u001b[0m\u001b[0;34m\u001b[0m\u001b[0;34m\u001b[0m\u001b[0;34m\u001b[0m\u001b[0m\n\u001b[1;32m    261\u001b[0m         \u001b[0;32mwith\u001b[0m \u001b[0mparallel_backend\u001b[0m\u001b[0;34m(\u001b[0m\u001b[0mself\u001b[0m\u001b[0;34m.\u001b[0m\u001b[0m_backend\u001b[0m\u001b[0;34m,\u001b[0m \u001b[0mn_jobs\u001b[0m\u001b[0;34m=\u001b[0m\u001b[0mself\u001b[0m\u001b[0;34m.\u001b[0m\u001b[0m_n_jobs\u001b[0m\u001b[0;34m)\u001b[0m\u001b[0;34m:\u001b[0m\u001b[0;34m\u001b[0m\u001b[0;34m\u001b[0m\u001b[0m\n\u001b[0;32m--> 262\u001b[0;31m             return [func(*args, **kwargs)\n\u001b[0m\u001b[1;32m    263\u001b[0m                     for func, args, kwargs in self.items]\n\u001b[1;32m    264\u001b[0m \u001b[0;34m\u001b[0m\u001b[0m\n",
      "\u001b[0;32m/opt/anaconda3/lib/python3.8/site-packages/sklearn/model_selection/_validation.py\u001b[0m in \u001b[0;36m_fit_and_score\u001b[0;34m(estimator, X, y, scorer, train, test, verbose, parameters, fit_params, return_train_score, return_parameters, return_n_test_samples, return_times, return_estimator, error_score)\u001b[0m\n\u001b[1;32m    529\u001b[0m             \u001b[0mestimator\u001b[0m\u001b[0;34m.\u001b[0m\u001b[0mfit\u001b[0m\u001b[0;34m(\u001b[0m\u001b[0mX_train\u001b[0m\u001b[0;34m,\u001b[0m \u001b[0;34m**\u001b[0m\u001b[0mfit_params\u001b[0m\u001b[0;34m)\u001b[0m\u001b[0;34m\u001b[0m\u001b[0;34m\u001b[0m\u001b[0m\n\u001b[1;32m    530\u001b[0m         \u001b[0;32melse\u001b[0m\u001b[0;34m:\u001b[0m\u001b[0;34m\u001b[0m\u001b[0;34m\u001b[0m\u001b[0m\n\u001b[0;32m--> 531\u001b[0;31m             \u001b[0mestimator\u001b[0m\u001b[0;34m.\u001b[0m\u001b[0mfit\u001b[0m\u001b[0;34m(\u001b[0m\u001b[0mX_train\u001b[0m\u001b[0;34m,\u001b[0m \u001b[0my_train\u001b[0m\u001b[0;34m,\u001b[0m \u001b[0;34m**\u001b[0m\u001b[0mfit_params\u001b[0m\u001b[0;34m)\u001b[0m\u001b[0;34m\u001b[0m\u001b[0;34m\u001b[0m\u001b[0m\n\u001b[0m\u001b[1;32m    532\u001b[0m \u001b[0;34m\u001b[0m\u001b[0m\n\u001b[1;32m    533\u001b[0m     \u001b[0;32mexcept\u001b[0m \u001b[0mException\u001b[0m \u001b[0;32mas\u001b[0m \u001b[0me\u001b[0m\u001b[0;34m:\u001b[0m\u001b[0;34m\u001b[0m\u001b[0;34m\u001b[0m\u001b[0m\n",
      "\u001b[0;32m/opt/anaconda3/lib/python3.8/site-packages/sklearn/ensemble/_forest.py\u001b[0m in \u001b[0;36mfit\u001b[0;34m(self, X, y, sample_weight)\u001b[0m\n\u001b[1;32m    384\u001b[0m             \u001b[0;31m# parallel_backend contexts set at a higher level,\u001b[0m\u001b[0;34m\u001b[0m\u001b[0;34m\u001b[0m\u001b[0;34m\u001b[0m\u001b[0m\n\u001b[1;32m    385\u001b[0m             \u001b[0;31m# since correctness does not rely on using threads.\u001b[0m\u001b[0;34m\u001b[0m\u001b[0;34m\u001b[0m\u001b[0;34m\u001b[0m\u001b[0m\n\u001b[0;32m--> 386\u001b[0;31m             trees = Parallel(n_jobs=self.n_jobs, verbose=self.verbose,\n\u001b[0m\u001b[1;32m    387\u001b[0m                              \u001b[0;34m**\u001b[0m\u001b[0m_joblib_parallel_args\u001b[0m\u001b[0;34m(\u001b[0m\u001b[0mprefer\u001b[0m\u001b[0;34m=\u001b[0m\u001b[0;34m'threads'\u001b[0m\u001b[0;34m)\u001b[0m\u001b[0;34m)\u001b[0m\u001b[0;34m(\u001b[0m\u001b[0;34m\u001b[0m\u001b[0;34m\u001b[0m\u001b[0m\n\u001b[1;32m    388\u001b[0m                 delayed(_parallel_build_trees)(\n",
      "\u001b[0;32m/opt/anaconda3/lib/python3.8/site-packages/joblib/parallel.py\u001b[0m in \u001b[0;36m__call__\u001b[0;34m(self, iterable)\u001b[0m\n\u001b[1;32m   1052\u001b[0m \u001b[0;34m\u001b[0m\u001b[0m\n\u001b[1;32m   1053\u001b[0m             \u001b[0;32mwith\u001b[0m \u001b[0mself\u001b[0m\u001b[0;34m.\u001b[0m\u001b[0m_backend\u001b[0m\u001b[0;34m.\u001b[0m\u001b[0mretrieval_context\u001b[0m\u001b[0;34m(\u001b[0m\u001b[0;34m)\u001b[0m\u001b[0;34m:\u001b[0m\u001b[0;34m\u001b[0m\u001b[0;34m\u001b[0m\u001b[0m\n\u001b[0;32m-> 1054\u001b[0;31m                 \u001b[0mself\u001b[0m\u001b[0;34m.\u001b[0m\u001b[0mretrieve\u001b[0m\u001b[0;34m(\u001b[0m\u001b[0;34m)\u001b[0m\u001b[0;34m\u001b[0m\u001b[0;34m\u001b[0m\u001b[0m\n\u001b[0m\u001b[1;32m   1055\u001b[0m             \u001b[0;31m# Make sure that we get a last message telling us we are done\u001b[0m\u001b[0;34m\u001b[0m\u001b[0;34m\u001b[0m\u001b[0;34m\u001b[0m\u001b[0m\n\u001b[1;32m   1056\u001b[0m             \u001b[0melapsed_time\u001b[0m \u001b[0;34m=\u001b[0m \u001b[0mtime\u001b[0m\u001b[0;34m.\u001b[0m\u001b[0mtime\u001b[0m\u001b[0;34m(\u001b[0m\u001b[0;34m)\u001b[0m \u001b[0;34m-\u001b[0m \u001b[0mself\u001b[0m\u001b[0;34m.\u001b[0m\u001b[0m_start_time\u001b[0m\u001b[0;34m\u001b[0m\u001b[0;34m\u001b[0m\u001b[0m\n",
      "\u001b[0;32m/opt/anaconda3/lib/python3.8/site-packages/joblib/parallel.py\u001b[0m in \u001b[0;36mretrieve\u001b[0;34m(self)\u001b[0m\n\u001b[1;32m    931\u001b[0m             \u001b[0;32mtry\u001b[0m\u001b[0;34m:\u001b[0m\u001b[0;34m\u001b[0m\u001b[0;34m\u001b[0m\u001b[0m\n\u001b[1;32m    932\u001b[0m                 \u001b[0;32mif\u001b[0m \u001b[0mgetattr\u001b[0m\u001b[0;34m(\u001b[0m\u001b[0mself\u001b[0m\u001b[0;34m.\u001b[0m\u001b[0m_backend\u001b[0m\u001b[0;34m,\u001b[0m \u001b[0;34m'supports_timeout'\u001b[0m\u001b[0;34m,\u001b[0m \u001b[0;32mFalse\u001b[0m\u001b[0;34m)\u001b[0m\u001b[0;34m:\u001b[0m\u001b[0;34m\u001b[0m\u001b[0;34m\u001b[0m\u001b[0m\n\u001b[0;32m--> 933\u001b[0;31m                     \u001b[0mself\u001b[0m\u001b[0;34m.\u001b[0m\u001b[0m_output\u001b[0m\u001b[0;34m.\u001b[0m\u001b[0mextend\u001b[0m\u001b[0;34m(\u001b[0m\u001b[0mjob\u001b[0m\u001b[0;34m.\u001b[0m\u001b[0mget\u001b[0m\u001b[0;34m(\u001b[0m\u001b[0mtimeout\u001b[0m\u001b[0;34m=\u001b[0m\u001b[0mself\u001b[0m\u001b[0;34m.\u001b[0m\u001b[0mtimeout\u001b[0m\u001b[0;34m)\u001b[0m\u001b[0;34m)\u001b[0m\u001b[0;34m\u001b[0m\u001b[0;34m\u001b[0m\u001b[0m\n\u001b[0m\u001b[1;32m    934\u001b[0m                 \u001b[0;32melse\u001b[0m\u001b[0;34m:\u001b[0m\u001b[0;34m\u001b[0m\u001b[0;34m\u001b[0m\u001b[0m\n\u001b[1;32m    935\u001b[0m                     \u001b[0mself\u001b[0m\u001b[0;34m.\u001b[0m\u001b[0m_output\u001b[0m\u001b[0;34m.\u001b[0m\u001b[0mextend\u001b[0m\u001b[0;34m(\u001b[0m\u001b[0mjob\u001b[0m\u001b[0;34m.\u001b[0m\u001b[0mget\u001b[0m\u001b[0;34m(\u001b[0m\u001b[0;34m)\u001b[0m\u001b[0;34m)\u001b[0m\u001b[0;34m\u001b[0m\u001b[0;34m\u001b[0m\u001b[0m\n",
      "\u001b[0;32m/opt/anaconda3/lib/python3.8/site-packages/joblib/_parallel_backends.py\u001b[0m in \u001b[0;36mwrap_future_result\u001b[0;34m(future, timeout)\u001b[0m\n\u001b[1;32m    540\u001b[0m         AsyncResults.get from multiprocessing.\"\"\"\n\u001b[1;32m    541\u001b[0m         \u001b[0;32mtry\u001b[0m\u001b[0;34m:\u001b[0m\u001b[0;34m\u001b[0m\u001b[0;34m\u001b[0m\u001b[0m\n\u001b[0;32m--> 542\u001b[0;31m             \u001b[0;32mreturn\u001b[0m \u001b[0mfuture\u001b[0m\u001b[0;34m.\u001b[0m\u001b[0mresult\u001b[0m\u001b[0;34m(\u001b[0m\u001b[0mtimeout\u001b[0m\u001b[0;34m=\u001b[0m\u001b[0mtimeout\u001b[0m\u001b[0;34m)\u001b[0m\u001b[0;34m\u001b[0m\u001b[0;34m\u001b[0m\u001b[0m\n\u001b[0m\u001b[1;32m    543\u001b[0m         \u001b[0;32mexcept\u001b[0m \u001b[0mCfTimeoutError\u001b[0m \u001b[0;32mas\u001b[0m \u001b[0me\u001b[0m\u001b[0;34m:\u001b[0m\u001b[0;34m\u001b[0m\u001b[0;34m\u001b[0m\u001b[0m\n\u001b[1;32m    544\u001b[0m             \u001b[0;32mraise\u001b[0m \u001b[0mTimeoutError\u001b[0m \u001b[0;32mfrom\u001b[0m \u001b[0me\u001b[0m\u001b[0;34m\u001b[0m\u001b[0;34m\u001b[0m\u001b[0m\n",
      "\u001b[0;32m/opt/anaconda3/lib/python3.8/concurrent/futures/_base.py\u001b[0m in \u001b[0;36mresult\u001b[0;34m(self, timeout)\u001b[0m\n\u001b[1;32m    432\u001b[0m                 \u001b[0;32mreturn\u001b[0m \u001b[0mself\u001b[0m\u001b[0;34m.\u001b[0m\u001b[0m__get_result\u001b[0m\u001b[0;34m(\u001b[0m\u001b[0;34m)\u001b[0m\u001b[0;34m\u001b[0m\u001b[0;34m\u001b[0m\u001b[0m\n\u001b[1;32m    433\u001b[0m \u001b[0;34m\u001b[0m\u001b[0m\n\u001b[0;32m--> 434\u001b[0;31m             \u001b[0mself\u001b[0m\u001b[0;34m.\u001b[0m\u001b[0m_condition\u001b[0m\u001b[0;34m.\u001b[0m\u001b[0mwait\u001b[0m\u001b[0;34m(\u001b[0m\u001b[0mtimeout\u001b[0m\u001b[0;34m)\u001b[0m\u001b[0;34m\u001b[0m\u001b[0;34m\u001b[0m\u001b[0m\n\u001b[0m\u001b[1;32m    435\u001b[0m \u001b[0;34m\u001b[0m\u001b[0m\n\u001b[1;32m    436\u001b[0m             \u001b[0;32mif\u001b[0m \u001b[0mself\u001b[0m\u001b[0;34m.\u001b[0m\u001b[0m_state\u001b[0m \u001b[0;32min\u001b[0m \u001b[0;34m[\u001b[0m\u001b[0mCANCELLED\u001b[0m\u001b[0;34m,\u001b[0m \u001b[0mCANCELLED_AND_NOTIFIED\u001b[0m\u001b[0;34m]\u001b[0m\u001b[0;34m:\u001b[0m\u001b[0;34m\u001b[0m\u001b[0;34m\u001b[0m\u001b[0m\n",
      "\u001b[0;32m/opt/anaconda3/lib/python3.8/threading.py\u001b[0m in \u001b[0;36mwait\u001b[0;34m(self, timeout)\u001b[0m\n\u001b[1;32m    300\u001b[0m         \u001b[0;32mtry\u001b[0m\u001b[0;34m:\u001b[0m    \u001b[0;31m# restore state no matter what (e.g., KeyboardInterrupt)\u001b[0m\u001b[0;34m\u001b[0m\u001b[0;34m\u001b[0m\u001b[0m\n\u001b[1;32m    301\u001b[0m             \u001b[0;32mif\u001b[0m \u001b[0mtimeout\u001b[0m \u001b[0;32mis\u001b[0m \u001b[0;32mNone\u001b[0m\u001b[0;34m:\u001b[0m\u001b[0;34m\u001b[0m\u001b[0;34m\u001b[0m\u001b[0m\n\u001b[0;32m--> 302\u001b[0;31m                 \u001b[0mwaiter\u001b[0m\u001b[0;34m.\u001b[0m\u001b[0macquire\u001b[0m\u001b[0;34m(\u001b[0m\u001b[0;34m)\u001b[0m\u001b[0;34m\u001b[0m\u001b[0;34m\u001b[0m\u001b[0m\n\u001b[0m\u001b[1;32m    303\u001b[0m                 \u001b[0mgotit\u001b[0m \u001b[0;34m=\u001b[0m \u001b[0;32mTrue\u001b[0m\u001b[0;34m\u001b[0m\u001b[0;34m\u001b[0m\u001b[0m\n\u001b[1;32m    304\u001b[0m             \u001b[0;32melse\u001b[0m\u001b[0;34m:\u001b[0m\u001b[0;34m\u001b[0m\u001b[0;34m\u001b[0m\u001b[0m\n",
      "\u001b[0;31mKeyboardInterrupt\u001b[0m: "
     ]
    }
   ],
   "metadata": {}
  },
  {
   "cell_type": "code",
   "execution_count": null,
   "source": [
    "study.best_params"
   ],
   "outputs": [],
   "metadata": {}
  },
  {
   "cell_type": "code",
   "execution_count": null,
   "source": [
    "randf = RandomForestRegressor(max_depth=5, n_estimators=5000)\n",
    "randf.fit(X_train, y_train)"
   ],
   "outputs": [],
   "metadata": {}
  },
  {
   "cell_type": "markdown",
   "source": [
    "## STACKING"
   ],
   "metadata": {}
  },
  {
   "cell_type": "code",
   "execution_count": null,
   "source": [
    "\n",
    "xgboost_pred1 = xgboost.predict(X_train)\n",
    "lightbgm_pred1= lightbgm.predict(X_train)\n",
    "gra_pred1= gbr.predict(X_train)\n",
    "lasso_pred1= lasso.predict(X_train)\n",
    "ridge_pred1= ridge.predict(X_train)\n",
    "randf_pred1= randf.predict(X_train)\n",
    "\n",
    "\n",
    "print('[TRAIN]')\n",
    "print (\"xgboost rsme: {:.6f}\".format(rmse(y_train, xgboost_pred1)))\n",
    "print (\"lightbgm rsme: {:.6f}\".format(rmse(y_train, lightbgm_pred1)))\n",
    "print (\"gra rsme: {:.6f}\".format(rmse(y_train, gra_pred1)))\n",
    "print (\"lasso rsme: {:.6f}\".format(rmse(y_train, lasso_pred1)))\n",
    "print (\"ridge rsme: {:.6f}\".format(rmse(y_train, ridge_pred1)))\n",
    "print (\"randf rsme: {:.6f}\".format(rmse(y_train, randf_pred1)))\n",
    "\n",
    "# 結果の検証 \n",
    "xgboost_pred = xgboost.predict(X_test)\n",
    "lightbgm_pred= lightbgm.predict(X_test)\n",
    "gra_pred= gbr.predict(X_test)\n",
    "lasso_pred= lasso.predict(X_test)\n",
    "ridge_pred= ridge.predict(X_test)\n",
    "randf_pred= randf.predict(X_test)\n",
    "\n",
    "print('[VALID]')\n",
    "print (\"xgboost rsme: {:.6f}\".format(rmse(y_test, xgboost_pred)))\n",
    "print (\"lightbgm rsme: {:.6f}\".format(rmse(y_test, lightbgm_pred)))\n",
    "print (\"gra rsme: {:.6f}\".format(rmse(y_test, gra_pred)))\n",
    "print (\"lasso rsme: {:.6f}\".format(rmse(y_test, lasso_pred)))\n",
    "print (\"ridge rsme: {:.6f}\".format(rmse(y_test, ridge_pred)))\n",
    "print (\"randf rsme: {:.6f}\".format(rmse(y_test, randf_pred)))\n",
    "\n",
    "\n",
    "final_estimator = MLPRegressor(solver=\"sgd\", random_state=1)\n",
    "\n",
    "estimators = [\n",
    "    ('xgboost', xgboost),\n",
    "    ('lightbgm', lightbgm), \n",
    "    ('gra', gbr), \n",
    "    ('lasso', lasso)\n",
    "#    ('ridge', ridge)\n",
    "]\n",
    "st_model = StackingRegressor(estimators=estimators, final_estimator=final_estimator, cv=10)\n",
    "\n",
    "st_model.fit(X_train, y_train)\n",
    "\n",
    "y_pred_1 = st_model.predict(X_train)\n",
    "y_pred = st_model.predict(X_test)\n",
    "print(\"\\n\")\n",
    "print(\"TRAIN: Stacking Model rsme: {:.6f}\".format(rmse(y_train, y_pred_1)))\n",
    "print(\"TEST: Stacking Model rsme: {:.6f}\".format(rmse(y_test, y_pred)))"
   ],
   "outputs": [],
   "metadata": {}
  },
  {
   "cell_type": "markdown",
   "source": [
    "## PREDICT AND SUBMIT"
   ],
   "metadata": {}
  },
  {
   "cell_type": "code",
   "execution_count": null,
   "source": [
    "test = df[df_train.shape[0]:].drop(['SalePrice'], axis=1)\n",
    "\n",
    "submission = pd.DataFrame({\n",
    "    \"Id\": test_ID,\n",
    "    \"SalePrice\": np.floor(np.expm1(st_model.predict(test)))\n",
    "})\n",
    "submission.to_csv(f'{PATH}submission.csv', index=False)"
   ],
   "outputs": [],
   "metadata": {}
  },
  {
   "cell_type": "code",
   "execution_count": null,
   "source": [
    "submission.head()"
   ],
   "outputs": [],
   "metadata": {}
  },
  {
   "cell_type": "code",
   "execution_count": null,
   "source": [],
   "outputs": [],
   "metadata": {}
  }
 ],
 "metadata": {
  "orig_nbformat": 4,
  "language_info": {
   "name": "python",
   "version": "3.8.5",
   "mimetype": "text/x-python",
   "codemirror_mode": {
    "name": "ipython",
    "version": 3
   },
   "pygments_lexer": "ipython3",
   "nbconvert_exporter": "python",
   "file_extension": ".py"
  },
  "kernelspec": {
   "name": "python3",
   "display_name": "Python 3.8.5 64-bit ('base': conda)"
  },
  "interpreter": {
   "hash": "dca0ade3e726a953b501b15e8e990130d2b7799f14cfd9f4271676035ebe5511"
  }
 },
 "nbformat": 4,
 "nbformat_minor": 2
=======
  "cells": [
    {
      "cell_type": "markdown",
      "metadata": {
        "id": "view-in-github",
        "colab_type": "text"
      },
      "source": [
        "<a href=\"https://colab.research.google.com/github/hiroraba/try-house-prices-advanced-regression-techniques/blob/master/try_stacking.ipynb\" target=\"_parent\"><img src=\"https://colab.research.google.com/assets/colab-badge.svg\" alt=\"Open In Colab\"/></a>"
      ]
    },
    {
      "cell_type": "markdown",
      "metadata": {
        "id": "07crLo2Z0XAe"
      },
      "source": [
        "## IMPORT LIBRARY"
      ]
    },
    {
      "cell_type": "code",
      "metadata": {
        "colab": {
          "base_uri": "https://localhost:8080/"
        },
        "id": "iMjgcvgM01gL",
        "outputId": "0f100b0f-9694-4fb9-defc-172d5954106e"
      },
      "source": [
        "!pip install optuna"
      ],
      "execution_count": 35,
      "outputs": [
        {
          "output_type": "stream",
          "text": [
            "Requirement already satisfied: optuna in /usr/local/lib/python3.7/dist-packages (2.8.0)\n",
            "Requirement already satisfied: packaging>=20.0 in /usr/local/lib/python3.7/dist-packages (from optuna) (21.0)\n",
            "Requirement already satisfied: cliff in /usr/local/lib/python3.7/dist-packages (from optuna) (3.8.0)\n",
            "Requirement already satisfied: sqlalchemy>=1.1.0 in /usr/local/lib/python3.7/dist-packages (from optuna) (1.4.20)\n",
            "Requirement already satisfied: cmaes>=0.8.2 in /usr/local/lib/python3.7/dist-packages (from optuna) (0.8.2)\n",
            "Requirement already satisfied: numpy in /usr/local/lib/python3.7/dist-packages (from optuna) (1.19.5)\n",
            "Requirement already satisfied: colorlog in /usr/local/lib/python3.7/dist-packages (from optuna) (5.0.1)\n",
            "Requirement already satisfied: scipy!=1.4.0 in /usr/local/lib/python3.7/dist-packages (from optuna) (1.4.1)\n",
            "Requirement already satisfied: tqdm in /usr/local/lib/python3.7/dist-packages (from optuna) (4.41.1)\n",
            "Requirement already satisfied: alembic in /usr/local/lib/python3.7/dist-packages (from optuna) (1.6.5)\n",
            "Requirement already satisfied: pyparsing>=2.0.2 in /usr/local/lib/python3.7/dist-packages (from packaging>=20.0->optuna) (2.4.7)\n",
            "Requirement already satisfied: importlib-metadata in /usr/local/lib/python3.7/dist-packages (from sqlalchemy>=1.1.0->optuna) (4.6.1)\n",
            "Requirement already satisfied: greenlet!=0.4.17 in /usr/local/lib/python3.7/dist-packages (from sqlalchemy>=1.1.0->optuna) (1.1.0)\n",
            "Requirement already satisfied: Mako in /usr/local/lib/python3.7/dist-packages (from alembic->optuna) (1.1.4)\n",
            "Requirement already satisfied: python-editor>=0.3 in /usr/local/lib/python3.7/dist-packages (from alembic->optuna) (1.0.4)\n",
            "Requirement already satisfied: python-dateutil in /usr/local/lib/python3.7/dist-packages (from alembic->optuna) (2.8.1)\n",
            "Requirement already satisfied: cmd2>=1.0.0 in /usr/local/lib/python3.7/dist-packages (from cliff->optuna) (2.1.2)\n",
            "Requirement already satisfied: pbr!=2.1.0,>=2.0.0 in /usr/local/lib/python3.7/dist-packages (from cliff->optuna) (5.6.0)\n",
            "Requirement already satisfied: PyYAML>=3.12 in /usr/local/lib/python3.7/dist-packages (from cliff->optuna) (3.13)\n",
            "Requirement already satisfied: PrettyTable>=0.7.2 in /usr/local/lib/python3.7/dist-packages (from cliff->optuna) (2.1.0)\n",
            "Requirement already satisfied: stevedore>=2.0.1 in /usr/local/lib/python3.7/dist-packages (from cliff->optuna) (3.3.0)\n",
            "Requirement already satisfied: pyperclip>=1.6 in /usr/local/lib/python3.7/dist-packages (from cmd2>=1.0.0->cliff->optuna) (1.8.2)\n",
            "Requirement already satisfied: attrs>=16.3.0 in /usr/local/lib/python3.7/dist-packages (from cmd2>=1.0.0->cliff->optuna) (21.2.0)\n",
            "Requirement already satisfied: colorama>=0.3.7 in /usr/local/lib/python3.7/dist-packages (from cmd2>=1.0.0->cliff->optuna) (0.4.4)\n",
            "Requirement already satisfied: typing-extensions in /usr/local/lib/python3.7/dist-packages (from cmd2>=1.0.0->cliff->optuna) (3.7.4.3)\n",
            "Requirement already satisfied: wcwidth>=0.1.7 in /usr/local/lib/python3.7/dist-packages (from cmd2>=1.0.0->cliff->optuna) (0.2.5)\n",
            "Requirement already satisfied: zipp>=0.5 in /usr/local/lib/python3.7/dist-packages (from importlib-metadata->sqlalchemy>=1.1.0->optuna) (3.5.0)\n",
            "Requirement already satisfied: MarkupSafe>=0.9.2 in /usr/local/lib/python3.7/dist-packages (from Mako->alembic->optuna) (2.0.1)\n",
            "Requirement already satisfied: six>=1.5 in /usr/local/lib/python3.7/dist-packages (from python-dateutil->alembic->optuna) (1.15.0)\n"
          ],
          "name": "stdout"
        }
      ]
    },
    {
      "cell_type": "code",
      "metadata": {
        "colab": {
          "base_uri": "https://localhost:8080/"
        },
        "id": "VxyWd4Tc0Y6q",
        "outputId": "8f4b293a-4ab8-4972-ebb1-faa0f663da08"
      },
      "source": [
        "from google.colab import drive\n",
        "drive.mount('/content/drive')"
      ],
      "execution_count": 36,
      "outputs": [
        {
          "output_type": "stream",
          "text": [
            "Drive already mounted at /content/drive; to attempt to forcibly remount, call drive.mount(\"/content/drive\", force_remount=True).\n"
          ],
          "name": "stdout"
        }
      ]
    },
    {
      "cell_type": "code",
      "metadata": {
        "id": "I1e_2CnL0XAg"
      },
      "source": [
        "import numpy as np\n",
        "import os\n",
        "import platform\n",
        "import pandas as pd\n",
        "from sklearn.metrics import mean_squared_error\n",
        "from sklearn.preprocessing import StandardScaler\n",
        "from sklearn.pipeline import make_pipeline\n",
        "from sklearn.ensemble import RandomForestRegressor\n",
        "from sklearn.linear_model import Lasso\n",
        "from sklearn.linear_model import LinearRegression\n",
        "from sklearn.ensemble import StackingRegressor\n",
        "from sklearn.ensemble import ExtraTreesRegressor\n",
        "from sklearn.preprocessing import RobustScaler\n",
        "from sklearn.neural_network import MLPRegressor\n",
        "from scipy.stats import skew\n",
        "from scipy.special import boxcox1p\n",
        "from scipy.stats import boxcox_normmax\n",
        "from scipy.stats import boxcox\n",
        "from scipy.special import inv_boxcox\n",
        "import xgboost as xgb\n",
        "import lightgbm as lgbm\n",
        "from sklearn.model_selection import GridSearchCV\n",
        "from sklearn.metrics import make_scorer"
      ],
      "execution_count": 37,
      "outputs": []
    },
    {
      "cell_type": "markdown",
      "metadata": {
        "id": "k6_c3OCS0XAi"
      },
      "source": [
        "## CONSTRAINT"
      ]
    },
    {
      "cell_type": "code",
      "metadata": {
        "id": "9fCoa2cf0XAi"
      },
      "source": [
        "DEBUG = True"
      ],
      "execution_count": 38,
      "outputs": []
    },
    {
      "cell_type": "code",
      "metadata": {
        "id": "iKsbyJbE0XAi"
      },
      "source": [
        "if platform.system() == 'Darwin':\n",
        "    PATH = './'\n",
        "else:\n",
        "    PATH = '/content/drive/MyDrive/Colab Notebooks/Kaggle/House-Prices/'"
      ],
      "execution_count": 39,
      "outputs": []
    },
    {
      "cell_type": "markdown",
      "metadata": {
        "id": "j49W3HyP0XAj"
      },
      "source": [
        "## SET SEED"
      ]
    },
    {
      "cell_type": "code",
      "metadata": {
        "id": "k5bhNSUl0XAj"
      },
      "source": [
        "np.random.seed(1)"
      ],
      "execution_count": 40,
      "outputs": []
    },
    {
      "cell_type": "markdown",
      "metadata": {
        "id": "4C7zbV9G0XAk"
      },
      "source": [
        "## READ DATA"
      ]
    },
    {
      "cell_type": "code",
      "metadata": {
        "id": "M-HJV4UL0XAl"
      },
      "source": [
        "df_train = pd.read_csv(f'{PATH}train.csv')\n",
        "df_test = pd.read_csv(f'{PATH}test.csv')\n",
        "\n",
        "# テストIDを別途保存しておく\n",
        "test_ID = df_test['Id']\n"
      ],
      "execution_count": 41,
      "outputs": []
    },
    {
      "cell_type": "markdown",
      "metadata": {
        "id": "5mLkBqE80XAm"
      },
      "source": [
        "## REMOVE OUTER VALUE"
      ]
    },
    {
      "cell_type": "code",
      "metadata": {
        "id": "Vkyqnho50XAm"
      },
      "source": [
        "df_train.drop(\"Id\", axis = 1, inplace = True)\n",
        "df_test.drop(\"Id\", axis = 1, inplace = True)\n",
        "\n",
        "df_train[\"TotalSF\"] = df_train[\"1stFlrSF\"] + df_train[\"2ndFlrSF\"] + df_train[\"TotalBsmtSF\"]\n",
        "df_test[\"TotalSF\"] = df_test[\"1stFlrSF\"] + df_test[\"2ndFlrSF\"] + df_test[\"TotalBsmtSF\"]\n",
        "\n",
        "df_train = df_train.drop(df_train[(df_train['GrLivArea']>4000) & (df_train['SalePrice']<300000)].index)"
      ],
      "execution_count": 42,
      "outputs": []
    },
    {
      "cell_type": "markdown",
      "metadata": {
        "id": "9mQdbQzd0XAm"
      },
      "source": [
        "## MAKE DATA"
      ]
    },
    {
      "cell_type": "code",
      "metadata": {
        "id": "hfTtGKau0XAn"
      },
      "source": [
        "\n",
        "# データを合体\n",
        "df = pd.concat([df_train, df_test], sort=False)\n",
        "\n",
        "df[\"PoolQC\"] = df[\"PoolQC\"].fillna(\"None\")\n",
        "df[\"MiscFeature\"] = df[\"MiscFeature\"].fillna(\"None\")\n",
        "df[\"Alley\"] = df[\"Alley\"].fillna(\"None\")\n",
        "df[\"Fence\"] = df[\"Fence\"].fillna(\"None\")\n",
        "df[\"FireplaceQu\"] = df[\"FireplaceQu\"].fillna(\"None\")\n",
        "df[\"LotFrontage\"] = df.groupby(\"Neighborhood\")[\"LotFrontage\"].transform(\n",
        "    lambda x: x.fillna(x.median()))\n",
        "\n",
        "# 'RL'が一番多いのでそれで埋める\n",
        "df['MSZoning'] = df['MSZoning'].fillna(df['MSZoning'].mode()[0])\n",
        "\n",
        "df[\"Functional\"] = df[\"Functional\"].fillna(\"Typ\")\n",
        "\n",
        "for col in ('GarageType', 'GarageFinish', 'GarageQual', 'GarageCond'):\n",
        "    df[col] = df[col].fillna('None')\n",
        "    \n",
        "for col in ('GarageYrBlt', 'GarageArea', 'GarageCars'):\n",
        "    df[col] = df[col].fillna(0)\n",
        "    \n",
        "for col in ('BsmtFinSF1', 'BsmtFinSF2', 'BsmtUnfSF','TotalBsmtSF', 'BsmtFullBath', 'BsmtHalfBath'):\n",
        "    df[col] = df[col].fillna(0)\n",
        "    \n",
        "for col in ('BsmtQual', 'BsmtCond', 'BsmtExposure', 'BsmtFinType1', 'BsmtFinType2'):\n",
        "    df[col] = df[col].fillna('None')\n",
        "\n",
        "df[\"MasVnrType\"] = df[\"MasVnrType\"].fillna(\"None\")\n",
        "df[\"MasVnrArea\"] = df[\"MasVnrArea\"].fillna(0)\n",
        "\n",
        "# 電気がないことはないので最頻値で埋める\n",
        "df['Electrical'] = df['Electrical'].fillna(df['Electrical'].mode()[0])\n",
        "\n",
        "df = df.drop(['Utilities'], axis=1)\n",
        "\n",
        "# キッチンがないことはないので最頻値で埋める\n",
        "df['KitchenQual'] = df['KitchenQual'].fillna(df['KitchenQual'].mode()[0])\n",
        "\n",
        "df['Exterior1st'] = df['Exterior1st'].fillna(df['Exterior1st'].mode()[0])\n",
        "df['Exterior2nd'] = df['Exterior2nd'].fillna(df['Exterior2nd'].mode()[0])\n",
        "\n",
        "df['SaleType'] = df['SaleType'].fillna(df['SaleType'].mode()[0])\n",
        "df['MSSubClass'] = df['MSSubClass'].fillna(\"None\")\n",
        "\n",
        "## カテゴリにしたい数値型の特徴量を文字列に変換\n",
        "#MSSubClass=The building class\n",
        "df['MSSubClass'] = df['MSSubClass'].apply(str)\n",
        "\n",
        "#Changing OverallCond into a categorical variable\n",
        "df['OverallCond'] = df['OverallCond'].astype(str)\n",
        "\n",
        "#Year and month sold are transformed into categorical features.\n",
        "df['YrSold'] = df['YrSold'].astype(str)\n",
        "df['MoSold'] = df['MoSold'].astype(str)\n",
        "\n",
        "from sklearn.preprocessing import LabelEncoder\n",
        "cols = ('FireplaceQu', 'BsmtQual', 'BsmtCond', 'GarageQual', 'GarageCond', \n",
        "        'ExterQual', 'ExterCond','HeatingQC', 'PoolQC', 'KitchenQual', 'BsmtFinType1', \n",
        "        'BsmtFinType2', 'Functional', 'Fence', 'BsmtExposure', 'GarageFinish', 'LandSlope',\n",
        "        'LotShape', 'PavedDrive', 'Street', 'Alley', 'CentralAir', 'MSSubClass', 'OverallCond', \n",
        "        'YrSold', 'MoSold')\n",
        "# process columns, apply LabelEncoder to categorical features\n",
        "for c in cols:\n",
        "    lbl = LabelEncoder() \n",
        "    lbl.fit(list(df[c].values)) \n",
        "    df[c] = lbl.transform(list(df[c].values))\n",
        "    \n",
        "df['TotalSF'] = df['TotalBsmtSF'] + df['1stFlrSF'] + df['2ndFlrSF']\n",
        "\n",
        "# 正規化    \n",
        "numeric_features = df.dtypes[df.dtypes != \"object\"].index\n",
        "# 歪みを数値化\n",
        "skewed_features = df[numeric_features].apply(lambda x: skew(x)).sort_values(ascending=False)\n",
        "high_skewness = skewed_features[abs(skewed_features) > 0.75]\n",
        "skewed_features = high_skewness.index\n",
        "\n",
        "# 0.9以上のものを補正をかける\n",
        "for feature in skewed_features:\n",
        "    if feature != 'SalePrice': \n",
        "        df[feature] = boxcox1p(df[feature], 0.15)\n",
        "\n",
        "# one-hot-Encoding\n",
        "df = pd.get_dummies(df)\n",
        "\n",
        "# 訓練データを作成\n",
        "y = np.log1p(df[:df_train.shape[0]]['SalePrice'])\n",
        "X = df[:df_train.shape[0]].drop(['SalePrice'], axis=1)\n",
        "\n",
        "# 検証\n",
        "from sklearn.model_selection import train_test_split\n",
        "X_train, X_test, y_train, y_test = train_test_split(X, y, test_size=0.25, random_state=1)"
      ],
      "execution_count": 43,
      "outputs": []
    },
    {
      "cell_type": "code",
      "metadata": {
        "colab": {
          "base_uri": "https://localhost:8080/",
          "height": 253
        },
        "id": "hUwqxIFe0XAn",
        "outputId": "ab946ee7-6c82-42fc-f087-592036fc3e5e"
      },
      "source": [
        "X.head()"
      ],
      "execution_count": 44,
      "outputs": [
        {
          "output_type": "execute_result",
          "data": {
            "text/html": [
              "<div>\n",
              "<style scoped>\n",
              "    .dataframe tbody tr th:only-of-type {\n",
              "        vertical-align: middle;\n",
              "    }\n",
              "\n",
              "    .dataframe tbody tr th {\n",
              "        vertical-align: top;\n",
              "    }\n",
              "\n",
              "    .dataframe thead th {\n",
              "        text-align: right;\n",
              "    }\n",
              "</style>\n",
              "<table border=\"1\" class=\"dataframe\">\n",
              "  <thead>\n",
              "    <tr style=\"text-align: right;\">\n",
              "      <th></th>\n",
              "      <th>MSSubClass</th>\n",
              "      <th>LotFrontage</th>\n",
              "      <th>LotArea</th>\n",
              "      <th>Street</th>\n",
              "      <th>Alley</th>\n",
              "      <th>LotShape</th>\n",
              "      <th>LandSlope</th>\n",
              "      <th>OverallQual</th>\n",
              "      <th>OverallCond</th>\n",
              "      <th>YearBuilt</th>\n",
              "      <th>YearRemodAdd</th>\n",
              "      <th>MasVnrArea</th>\n",
              "      <th>ExterQual</th>\n",
              "      <th>ExterCond</th>\n",
              "      <th>BsmtQual</th>\n",
              "      <th>BsmtCond</th>\n",
              "      <th>BsmtExposure</th>\n",
              "      <th>BsmtFinType1</th>\n",
              "      <th>BsmtFinSF1</th>\n",
              "      <th>BsmtFinType2</th>\n",
              "      <th>BsmtFinSF2</th>\n",
              "      <th>BsmtUnfSF</th>\n",
              "      <th>TotalBsmtSF</th>\n",
              "      <th>HeatingQC</th>\n",
              "      <th>CentralAir</th>\n",
              "      <th>1stFlrSF</th>\n",
              "      <th>2ndFlrSF</th>\n",
              "      <th>LowQualFinSF</th>\n",
              "      <th>GrLivArea</th>\n",
              "      <th>BsmtFullBath</th>\n",
              "      <th>BsmtHalfBath</th>\n",
              "      <th>FullBath</th>\n",
              "      <th>HalfBath</th>\n",
              "      <th>BedroomAbvGr</th>\n",
              "      <th>KitchenAbvGr</th>\n",
              "      <th>KitchenQual</th>\n",
              "      <th>TotRmsAbvGrd</th>\n",
              "      <th>Functional</th>\n",
              "      <th>Fireplaces</th>\n",
              "      <th>FireplaceQu</th>\n",
              "      <th>...</th>\n",
              "      <th>Foundation_Stone</th>\n",
              "      <th>Foundation_Wood</th>\n",
              "      <th>Heating_Floor</th>\n",
              "      <th>Heating_GasA</th>\n",
              "      <th>Heating_GasW</th>\n",
              "      <th>Heating_Grav</th>\n",
              "      <th>Heating_OthW</th>\n",
              "      <th>Heating_Wall</th>\n",
              "      <th>Electrical_FuseA</th>\n",
              "      <th>Electrical_FuseF</th>\n",
              "      <th>Electrical_FuseP</th>\n",
              "      <th>Electrical_Mix</th>\n",
              "      <th>Electrical_SBrkr</th>\n",
              "      <th>GarageType_2Types</th>\n",
              "      <th>GarageType_Attchd</th>\n",
              "      <th>GarageType_Basment</th>\n",
              "      <th>GarageType_BuiltIn</th>\n",
              "      <th>GarageType_CarPort</th>\n",
              "      <th>GarageType_Detchd</th>\n",
              "      <th>GarageType_None</th>\n",
              "      <th>MiscFeature_Gar2</th>\n",
              "      <th>MiscFeature_None</th>\n",
              "      <th>MiscFeature_Othr</th>\n",
              "      <th>MiscFeature_Shed</th>\n",
              "      <th>MiscFeature_TenC</th>\n",
              "      <th>SaleType_COD</th>\n",
              "      <th>SaleType_CWD</th>\n",
              "      <th>SaleType_Con</th>\n",
              "      <th>SaleType_ConLD</th>\n",
              "      <th>SaleType_ConLI</th>\n",
              "      <th>SaleType_ConLw</th>\n",
              "      <th>SaleType_New</th>\n",
              "      <th>SaleType_Oth</th>\n",
              "      <th>SaleType_WD</th>\n",
              "      <th>SaleCondition_Abnorml</th>\n",
              "      <th>SaleCondition_AdjLand</th>\n",
              "      <th>SaleCondition_Alloca</th>\n",
              "      <th>SaleCondition_Family</th>\n",
              "      <th>SaleCondition_Normal</th>\n",
              "      <th>SaleCondition_Partial</th>\n",
              "    </tr>\n",
              "  </thead>\n",
              "  <tbody>\n",
              "    <tr>\n",
              "      <th>0</th>\n",
              "      <td>10</td>\n",
              "      <td>5.831328</td>\n",
              "      <td>19.212182</td>\n",
              "      <td>0.730463</td>\n",
              "      <td>1</td>\n",
              "      <td>3</td>\n",
              "      <td>0.0</td>\n",
              "      <td>7</td>\n",
              "      <td>4</td>\n",
              "      <td>2003</td>\n",
              "      <td>2003</td>\n",
              "      <td>8.059126</td>\n",
              "      <td>1.194318</td>\n",
              "      <td>1.820334</td>\n",
              "      <td>2</td>\n",
              "      <td>1.820334</td>\n",
              "      <td>1.540963</td>\n",
              "      <td>2</td>\n",
              "      <td>11.170327</td>\n",
              "      <td>2.259674</td>\n",
              "      <td>0.0</td>\n",
              "      <td>7.483296</td>\n",
              "      <td>856.0</td>\n",
              "      <td>0</td>\n",
              "      <td>0.730463</td>\n",
              "      <td>11.692623</td>\n",
              "      <td>11.686189</td>\n",
              "      <td>0.0</td>\n",
              "      <td>13.698888</td>\n",
              "      <td>1.0</td>\n",
              "      <td>0.000000</td>\n",
              "      <td>2</td>\n",
              "      <td>1</td>\n",
              "      <td>3</td>\n",
              "      <td>0.730463</td>\n",
              "      <td>1.194318</td>\n",
              "      <td>8</td>\n",
              "      <td>2.259674</td>\n",
              "      <td>0</td>\n",
              "      <td>3</td>\n",
              "      <td>...</td>\n",
              "      <td>0</td>\n",
              "      <td>0</td>\n",
              "      <td>0</td>\n",
              "      <td>1</td>\n",
              "      <td>0</td>\n",
              "      <td>0</td>\n",
              "      <td>0</td>\n",
              "      <td>0</td>\n",
              "      <td>0</td>\n",
              "      <td>0</td>\n",
              "      <td>0</td>\n",
              "      <td>0</td>\n",
              "      <td>1</td>\n",
              "      <td>0</td>\n",
              "      <td>1</td>\n",
              "      <td>0</td>\n",
              "      <td>0</td>\n",
              "      <td>0</td>\n",
              "      <td>0</td>\n",
              "      <td>0</td>\n",
              "      <td>0</td>\n",
              "      <td>1</td>\n",
              "      <td>0</td>\n",
              "      <td>0</td>\n",
              "      <td>0</td>\n",
              "      <td>0</td>\n",
              "      <td>0</td>\n",
              "      <td>0</td>\n",
              "      <td>0</td>\n",
              "      <td>0</td>\n",
              "      <td>0</td>\n",
              "      <td>0</td>\n",
              "      <td>0</td>\n",
              "      <td>1</td>\n",
              "      <td>0</td>\n",
              "      <td>0</td>\n",
              "      <td>0</td>\n",
              "      <td>0</td>\n",
              "      <td>1</td>\n",
              "      <td>0</td>\n",
              "    </tr>\n",
              "    <tr>\n",
              "      <th>1</th>\n",
              "      <td>5</td>\n",
              "      <td>6.221214</td>\n",
              "      <td>19.712205</td>\n",
              "      <td>0.730463</td>\n",
              "      <td>1</td>\n",
              "      <td>3</td>\n",
              "      <td>0.0</td>\n",
              "      <td>6</td>\n",
              "      <td>7</td>\n",
              "      <td>1976</td>\n",
              "      <td>1976</td>\n",
              "      <td>0.000000</td>\n",
              "      <td>1.540963</td>\n",
              "      <td>1.820334</td>\n",
              "      <td>2</td>\n",
              "      <td>1.820334</td>\n",
              "      <td>0.730463</td>\n",
              "      <td>0</td>\n",
              "      <td>12.062832</td>\n",
              "      <td>2.259674</td>\n",
              "      <td>0.0</td>\n",
              "      <td>8.897844</td>\n",
              "      <td>1262.0</td>\n",
              "      <td>0</td>\n",
              "      <td>0.730463</td>\n",
              "      <td>12.792276</td>\n",
              "      <td>0.000000</td>\n",
              "      <td>0.0</td>\n",
              "      <td>12.792276</td>\n",
              "      <td>0.0</td>\n",
              "      <td>0.730463</td>\n",
              "      <td>2</td>\n",
              "      <td>0</td>\n",
              "      <td>3</td>\n",
              "      <td>0.730463</td>\n",
              "      <td>1.540963</td>\n",
              "      <td>6</td>\n",
              "      <td>2.259674</td>\n",
              "      <td>1</td>\n",
              "      <td>5</td>\n",
              "      <td>...</td>\n",
              "      <td>0</td>\n",
              "      <td>0</td>\n",
              "      <td>0</td>\n",
              "      <td>1</td>\n",
              "      <td>0</td>\n",
              "      <td>0</td>\n",
              "      <td>0</td>\n",
              "      <td>0</td>\n",
              "      <td>0</td>\n",
              "      <td>0</td>\n",
              "      <td>0</td>\n",
              "      <td>0</td>\n",
              "      <td>1</td>\n",
              "      <td>0</td>\n",
              "      <td>1</td>\n",
              "      <td>0</td>\n",
              "      <td>0</td>\n",
              "      <td>0</td>\n",
              "      <td>0</td>\n",
              "      <td>0</td>\n",
              "      <td>0</td>\n",
              "      <td>1</td>\n",
              "      <td>0</td>\n",
              "      <td>0</td>\n",
              "      <td>0</td>\n",
              "      <td>0</td>\n",
              "      <td>0</td>\n",
              "      <td>0</td>\n",
              "      <td>0</td>\n",
              "      <td>0</td>\n",
              "      <td>0</td>\n",
              "      <td>0</td>\n",
              "      <td>0</td>\n",
              "      <td>1</td>\n",
              "      <td>0</td>\n",
              "      <td>0</td>\n",
              "      <td>0</td>\n",
              "      <td>0</td>\n",
              "      <td>1</td>\n",
              "      <td>0</td>\n",
              "    </tr>\n",
              "    <tr>\n",
              "      <th>2</th>\n",
              "      <td>10</td>\n",
              "      <td>5.914940</td>\n",
              "      <td>20.347241</td>\n",
              "      <td>0.730463</td>\n",
              "      <td>1</td>\n",
              "      <td>0</td>\n",
              "      <td>0.0</td>\n",
              "      <td>7</td>\n",
              "      <td>4</td>\n",
              "      <td>2001</td>\n",
              "      <td>2002</td>\n",
              "      <td>7.646538</td>\n",
              "      <td>1.194318</td>\n",
              "      <td>1.820334</td>\n",
              "      <td>2</td>\n",
              "      <td>1.820334</td>\n",
              "      <td>1.194318</td>\n",
              "      <td>2</td>\n",
              "      <td>10.200343</td>\n",
              "      <td>2.259674</td>\n",
              "      <td>0.0</td>\n",
              "      <td>9.917060</td>\n",
              "      <td>920.0</td>\n",
              "      <td>0</td>\n",
              "      <td>0.730463</td>\n",
              "      <td>11.892039</td>\n",
              "      <td>11.724598</td>\n",
              "      <td>0.0</td>\n",
              "      <td>13.832085</td>\n",
              "      <td>1.0</td>\n",
              "      <td>0.000000</td>\n",
              "      <td>2</td>\n",
              "      <td>1</td>\n",
              "      <td>3</td>\n",
              "      <td>0.730463</td>\n",
              "      <td>1.194318</td>\n",
              "      <td>6</td>\n",
              "      <td>2.259674</td>\n",
              "      <td>1</td>\n",
              "      <td>5</td>\n",
              "      <td>...</td>\n",
              "      <td>0</td>\n",
              "      <td>0</td>\n",
              "      <td>0</td>\n",
              "      <td>1</td>\n",
              "      <td>0</td>\n",
              "      <td>0</td>\n",
              "      <td>0</td>\n",
              "      <td>0</td>\n",
              "      <td>0</td>\n",
              "      <td>0</td>\n",
              "      <td>0</td>\n",
              "      <td>0</td>\n",
              "      <td>1</td>\n",
              "      <td>0</td>\n",
              "      <td>1</td>\n",
              "      <td>0</td>\n",
              "      <td>0</td>\n",
              "      <td>0</td>\n",
              "      <td>0</td>\n",
              "      <td>0</td>\n",
              "      <td>0</td>\n",
              "      <td>1</td>\n",
              "      <td>0</td>\n",
              "      <td>0</td>\n",
              "      <td>0</td>\n",
              "      <td>0</td>\n",
              "      <td>0</td>\n",
              "      <td>0</td>\n",
              "      <td>0</td>\n",
              "      <td>0</td>\n",
              "      <td>0</td>\n",
              "      <td>0</td>\n",
              "      <td>0</td>\n",
              "      <td>1</td>\n",
              "      <td>0</td>\n",
              "      <td>0</td>\n",
              "      <td>0</td>\n",
              "      <td>0</td>\n",
              "      <td>1</td>\n",
              "      <td>0</td>\n",
              "    </tr>\n",
              "    <tr>\n",
              "      <th>3</th>\n",
              "      <td>11</td>\n",
              "      <td>5.684507</td>\n",
              "      <td>19.691553</td>\n",
              "      <td>0.730463</td>\n",
              "      <td>1</td>\n",
              "      <td>0</td>\n",
              "      <td>0.0</td>\n",
              "      <td>7</td>\n",
              "      <td>4</td>\n",
              "      <td>1915</td>\n",
              "      <td>1970</td>\n",
              "      <td>0.000000</td>\n",
              "      <td>1.540963</td>\n",
              "      <td>1.820334</td>\n",
              "      <td>4</td>\n",
              "      <td>0.730463</td>\n",
              "      <td>1.540963</td>\n",
              "      <td>0</td>\n",
              "      <td>8.274266</td>\n",
              "      <td>2.259674</td>\n",
              "      <td>0.0</td>\n",
              "      <td>10.468500</td>\n",
              "      <td>756.0</td>\n",
              "      <td>2</td>\n",
              "      <td>0.730463</td>\n",
              "      <td>12.013683</td>\n",
              "      <td>11.354094</td>\n",
              "      <td>0.0</td>\n",
              "      <td>13.711364</td>\n",
              "      <td>1.0</td>\n",
              "      <td>0.000000</td>\n",
              "      <td>1</td>\n",
              "      <td>0</td>\n",
              "      <td>3</td>\n",
              "      <td>0.730463</td>\n",
              "      <td>1.194318</td>\n",
              "      <td>7</td>\n",
              "      <td>2.259674</td>\n",
              "      <td>1</td>\n",
              "      <td>2</td>\n",
              "      <td>...</td>\n",
              "      <td>0</td>\n",
              "      <td>0</td>\n",
              "      <td>0</td>\n",
              "      <td>1</td>\n",
              "      <td>0</td>\n",
              "      <td>0</td>\n",
              "      <td>0</td>\n",
              "      <td>0</td>\n",
              "      <td>0</td>\n",
              "      <td>0</td>\n",
              "      <td>0</td>\n",
              "      <td>0</td>\n",
              "      <td>1</td>\n",
              "      <td>0</td>\n",
              "      <td>0</td>\n",
              "      <td>0</td>\n",
              "      <td>0</td>\n",
              "      <td>0</td>\n",
              "      <td>1</td>\n",
              "      <td>0</td>\n",
              "      <td>0</td>\n",
              "      <td>1</td>\n",
              "      <td>0</td>\n",
              "      <td>0</td>\n",
              "      <td>0</td>\n",
              "      <td>0</td>\n",
              "      <td>0</td>\n",
              "      <td>0</td>\n",
              "      <td>0</td>\n",
              "      <td>0</td>\n",
              "      <td>0</td>\n",
              "      <td>0</td>\n",
              "      <td>0</td>\n",
              "      <td>1</td>\n",
              "      <td>1</td>\n",
              "      <td>0</td>\n",
              "      <td>0</td>\n",
              "      <td>0</td>\n",
              "      <td>0</td>\n",
              "      <td>0</td>\n",
              "    </tr>\n",
              "    <tr>\n",
              "      <th>4</th>\n",
              "      <td>10</td>\n",
              "      <td>6.314735</td>\n",
              "      <td>21.325160</td>\n",
              "      <td>0.730463</td>\n",
              "      <td>1</td>\n",
              "      <td>0</td>\n",
              "      <td>0.0</td>\n",
              "      <td>8</td>\n",
              "      <td>4</td>\n",
              "      <td>2000</td>\n",
              "      <td>2000</td>\n",
              "      <td>9.391827</td>\n",
              "      <td>1.194318</td>\n",
              "      <td>1.820334</td>\n",
              "      <td>2</td>\n",
              "      <td>1.820334</td>\n",
              "      <td>0.000000</td>\n",
              "      <td>2</td>\n",
              "      <td>10.971129</td>\n",
              "      <td>2.259674</td>\n",
              "      <td>0.0</td>\n",
              "      <td>10.221051</td>\n",
              "      <td>1145.0</td>\n",
              "      <td>0</td>\n",
              "      <td>0.730463</td>\n",
              "      <td>12.510588</td>\n",
              "      <td>12.271365</td>\n",
              "      <td>0.0</td>\n",
              "      <td>14.480029</td>\n",
              "      <td>1.0</td>\n",
              "      <td>0.000000</td>\n",
              "      <td>2</td>\n",
              "      <td>1</td>\n",
              "      <td>4</td>\n",
              "      <td>0.730463</td>\n",
              "      <td>1.194318</td>\n",
              "      <td>9</td>\n",
              "      <td>2.259674</td>\n",
              "      <td>1</td>\n",
              "      <td>5</td>\n",
              "      <td>...</td>\n",
              "      <td>0</td>\n",
              "      <td>0</td>\n",
              "      <td>0</td>\n",
              "      <td>1</td>\n",
              "      <td>0</td>\n",
              "      <td>0</td>\n",
              "      <td>0</td>\n",
              "      <td>0</td>\n",
              "      <td>0</td>\n",
              "      <td>0</td>\n",
              "      <td>0</td>\n",
              "      <td>0</td>\n",
              "      <td>1</td>\n",
              "      <td>0</td>\n",
              "      <td>1</td>\n",
              "      <td>0</td>\n",
              "      <td>0</td>\n",
              "      <td>0</td>\n",
              "      <td>0</td>\n",
              "      <td>0</td>\n",
              "      <td>0</td>\n",
              "      <td>1</td>\n",
              "      <td>0</td>\n",
              "      <td>0</td>\n",
              "      <td>0</td>\n",
              "      <td>0</td>\n",
              "      <td>0</td>\n",
              "      <td>0</td>\n",
              "      <td>0</td>\n",
              "      <td>0</td>\n",
              "      <td>0</td>\n",
              "      <td>0</td>\n",
              "      <td>0</td>\n",
              "      <td>1</td>\n",
              "      <td>0</td>\n",
              "      <td>0</td>\n",
              "      <td>0</td>\n",
              "      <td>0</td>\n",
              "      <td>1</td>\n",
              "      <td>0</td>\n",
              "    </tr>\n",
              "  </tbody>\n",
              "</table>\n",
              "<p>5 rows × 220 columns</p>\n",
              "</div>"
            ],
            "text/plain": [
              "   MSSubClass  LotFrontage  ...  SaleCondition_Normal  SaleCondition_Partial\n",
              "0          10     5.831328  ...                     1                      0\n",
              "1           5     6.221214  ...                     1                      0\n",
              "2          10     5.914940  ...                     1                      0\n",
              "3          11     5.684507  ...                     0                      0\n",
              "4          10     6.314735  ...                     1                      0\n",
              "\n",
              "[5 rows x 220 columns]"
            ]
          },
          "metadata": {
            "tags": []
          },
          "execution_count": 44
        }
      ]
    },
    {
      "cell_type": "markdown",
      "metadata": {
        "id": "3Cljyo-H0XAo"
      },
      "source": [
        "## RSME"
      ]
    },
    {
      "cell_type": "code",
      "metadata": {
        "id": "d1h8dJeO0XAo"
      },
      "source": [
        "def rmse(y_true,y_pred):\n",
        "    #RMSEを算出\n",
        "    rmse = np.sqrt(mean_squared_error(y_true,y_pred))\n",
        "    return rmse"
      ],
      "execution_count": 45,
      "outputs": []
    },
    {
      "cell_type": "markdown",
      "metadata": {
        "id": "RsMehtGq0XAo"
      },
      "source": [
        "## MAKE MODEL AND FIT (XGBOOST)"
      ]
    },
    {
      "cell_type": "code",
      "metadata": {
        "id": "RLFFAfhy0XAp"
      },
      "source": [
        "import copy\n",
        "import optuna\n",
        "from sklearn.model_selection import cross_validate\n",
        "\n",
        "trains = xgb.DMatrix(X_train, label=y_train)\n",
        "tests = xgb.DMatrix(X_test, label=y_test)\n",
        "\n",
        "base_params = {\n",
        "    'booster': 'gbtree',\n",
        "    'objective': 'reg:squarederror',\n",
        "    'eval_metric': 'rmse',\n",
        "}\n",
        "\n",
        "tmp_params = copy.deepcopy(base_params)\n",
        "\n",
        "watchlist = [(X_train, 'train'), (X_test, 'eval')]\n",
        "\n",
        "def optimizer(trial):\n",
        "    eta =  trial.suggest_loguniform('eta', 1e-8, 1.0)\n",
        "    gamma = trial.suggest_loguniform('gamma', 1e-8, 1.0)\n",
        "    max_depth = trial.suggest_int('max_depth', 1, 20)\n",
        "    min_child_weight = trial.suggest_loguniform('min_child_weight', 1e-8, 1.0)\n",
        "    max_delta_step = trial.suggest_loguniform('max_delta_step', 1e-8, 1.0)\n",
        "    subsample = trial.suggest_uniform('subsample', 0.0, 1.0)\n",
        "    reg_lambda = trial.suggest_uniform('reg_lambda', 0.0, 1000.0)\n",
        "    reg_alpha = trial.suggest_uniform('reg_alpha', 0.0, 1000.0)\n",
        "\n",
        "\n",
        "    regr = xgb.XGBRegressor(eta = eta, gamma = gamma, max_depth = max_depth,\n",
        "                           min_child_weight = min_child_weight, max_delta_step = max_delta_step,\n",
        "                           subsample = subsample,reg_lambda = reg_lambda,reg_alpha = reg_alpha)\n",
        "    score_funcs = {\n",
        "        'rmse': make_scorer(rmse),  # make_scorer() でラップする\n",
        "    }\n",
        "    scores = cross_validate(regr, X_train, y_train, cv=5, scoring=score_funcs)\n",
        "    print(scores)\n",
        "    mean_rmse = scores['test_rmse'].mean()\n",
        "    return mean_rmse\n",
        "\n",
        "#study = optuna.create_study(direction='minimize')\n",
        "#study.optimize(optimizer, n_trials=500)"
      ],
      "execution_count": 46,
      "outputs": []
    },
    {
      "cell_type": "code",
      "metadata": {
        "id": "F3xqHd0T0XAp"
      },
      "source": [
        "#study.best_params"
      ],
      "execution_count": 47,
      "outputs": []
    },
    {
      "cell_type": "code",
      "metadata": {
        "colab": {
          "base_uri": "https://localhost:8080/"
        },
        "id": "ssdNwVbn0XAp",
        "outputId": "fa973351-5234-4c31-ab40-a77e95b61e40"
      },
      "source": [
        "pipeline = make_pipeline(RobustScaler(), xgb.XGBRegressor(eta=0.6752981403332644, \n",
        "                                                          gamma=0.00019806565556055886, \n",
        "                                                          max_depth=2, \n",
        "                                                          min_child_weight=0.0001309781675638748, \n",
        "                                                          max_delta_step=0.3034212265985207,\n",
        "                                                          subsample=0.5268559375798426,\n",
        "                                                          reg_lambda=43.32176448126586,\n",
        "                                                          reg_alpha=0.33670821989661315))\n",
        "#pipeline = make_pipeline(RobustScaler(), xgb.XGBRegressor())\n",
        "\n",
        "#params = {'xgbregressor__gamma':[0.001, 0.1, 1, 10, 100],\n",
        "#          'xgbregressor__max_depth':[2,4,6,8,10],\n",
        "#          'xgbregressor__learning_rate':[0.0001, 0.001, 0.01],\n",
        "#          'xgbregressor__n_estimators':[10, 100, 1000]}\n",
        "\n",
        "#if DEBUG:\n",
        "#    params = {'xgbregressor__gamma':[0.001, 0.1, 1, 10, 100]}\n",
        "\n",
        "#gd = GridSearchCV(estimator=pipeline, param_grid=params, cv=5, scoring=make_scorer(rmse,greater_is_better=False))\n",
        "pipeline.fit(X_train, y_train)\n",
        "xgboost = pipeline"
      ],
      "execution_count": 48,
      "outputs": [
        {
          "output_type": "stream",
          "text": [
            "[13:50:08] WARNING: /workspace/src/objective/regression_obj.cu:152: reg:linear is now deprecated in favor of reg:squarederror.\n"
          ],
          "name": "stdout"
        }
      ]
    },
    {
      "cell_type": "markdown",
      "metadata": {
        "id": "QrJpVkm10XAq"
      },
      "source": [
        "## BEST PARAM(XGBOOST)"
      ]
    },
    {
      "cell_type": "code",
      "metadata": {
        "id": "TYoR-qnW0XAq"
      },
      "source": [
        "#gd.best_params_"
      ],
      "execution_count": 49,
      "outputs": []
    },
    {
      "cell_type": "markdown",
      "metadata": {
        "id": "f2sZwmBs0XAq"
      },
      "source": [
        "## MAKE MODEL AND FIT (LIGHT BGM)"
      ]
    },
    {
      "cell_type": "code",
      "metadata": {
        "id": "f8bJK7i60XAq"
      },
      "source": [
        "import optuna.integration.lightgbm as lgbo\n",
        "opt_params = { \"objective\":\"regression\", \"metric\":\"rmse\"}\n",
        "reg_train = lgbm.Dataset(X_train, y_train)\n",
        "reg_eval = lgbm.Dataset(X_test, y_test, reference=reg_train)\n",
        "\n",
        "#opt=lgbo.train(opt_params, reg_train, valid_sets = reg_eval, verbose_eval=False, num_boost_round = 5)"
      ],
      "execution_count": 50,
      "outputs": []
    },
    {
      "cell_type": "code",
      "metadata": {
        "id": "OCvYYBfU0XAq"
      },
      "source": [
        "#opt.params"
      ],
      "execution_count": 51,
      "outputs": []
    },
    {
      "cell_type": "code",
      "metadata": {
        "id": "zKlsTjXc0XAr"
      },
      "source": [
        "\"\"\"\n",
        "{'objective': 'regression',\n",
        " 'metric': 'rmse',\n",
        " 'feature_pre_filter': False,\n",
        " 'lambda_l1': 0.0,\n",
        " 'lambda_l2': 0.0,\n",
        " 'num_leaves': 85,\n",
        " 'feature_fraction': 0.6,\n",
        " 'bagging_fraction': 0.5374366835020357,\n",
        " 'bagging_freq': 3,\n",
        " 'min_child_samples': 5}\n",
        "\"\"\"\n",
        "pipeline = make_pipeline(lgbm.LGBMRegressor(objective='regression', \n",
        "                                                            num_leaves=85, \n",
        "                                                            feature_fraction=0.6, \n",
        "                                                            bagging_fraction=0.5374366835020357, \n",
        "                                                            bagging_freq=3, \n",
        "                                                            min_child_samples=5, \n",
        "                                                            max_depth=2,\n",
        "                                                            feature_pre_filter=False))\n",
        "pipeline.fit(X_train, y_train)\n",
        "lightbgm = pipeline"
      ],
      "execution_count": 52,
      "outputs": []
    },
    {
      "cell_type": "markdown",
      "metadata": {
        "id": "fRxXbn8d0XAr"
      },
      "source": [
        "## BEST PARAMS(LIGHTBGM)"
      ]
    },
    {
      "cell_type": "code",
      "metadata": {
        "id": "4j34exUh0XAr"
      },
      "source": [
        "#gd.best_params_"
      ],
      "execution_count": 53,
      "outputs": []
    },
    {
      "cell_type": "markdown",
      "metadata": {
        "id": "GuRXkY4j0XAr"
      },
      "source": [
        "## Gradient Boosting regressor"
      ]
    },
    {
      "cell_type": "code",
      "metadata": {
        "colab": {
          "base_uri": "https://localhost:8080/"
        },
        "id": "dN4metxC0XAr",
        "outputId": "634cb665-ee52-4d43-e04b-9d80f91390a9"
      },
      "source": [
        "from sklearn.ensemble import GradientBoostingRegressor \n",
        "gbr = GradientBoostingRegressor(n_estimators=3000, learning_rate=0.05, max_depth=2, max_features='sqrt', min_samples_leaf=5, min_samples_split=5, loss='huber', random_state =1)  \n",
        "gbr.fit(X_train, y_train)"
      ],
      "execution_count": 54,
      "outputs": [
        {
          "output_type": "execute_result",
          "data": {
            "text/plain": [
              "GradientBoostingRegressor(alpha=0.9, ccp_alpha=0.0, criterion='friedman_mse',\n",
              "                          init=None, learning_rate=0.05, loss='huber',\n",
              "                          max_depth=2, max_features='sqrt', max_leaf_nodes=None,\n",
              "                          min_impurity_decrease=0.0, min_impurity_split=None,\n",
              "                          min_samples_leaf=5, min_samples_split=5,\n",
              "                          min_weight_fraction_leaf=0.0, n_estimators=3000,\n",
              "                          n_iter_no_change=None, presort='deprecated',\n",
              "                          random_state=1, subsample=1.0, tol=0.0001,\n",
              "                          validation_fraction=0.1, verbose=0, warm_start=False)"
            ]
          },
          "metadata": {
            "tags": []
          },
          "execution_count": 54
        }
      ]
    },
    {
      "cell_type": "markdown",
      "metadata": {
        "id": "CAP-elBU0XAr"
      },
      "source": [
        "## Lasso"
      ]
    },
    {
      "cell_type": "code",
      "metadata": {
        "colab": {
          "base_uri": "https://localhost:8080/"
        },
        "id": "xrg75IMu0XAr",
        "outputId": "78ff9b5e-ead4-4837-fe36-74fbb4b4cc53"
      },
      "source": [
        "from sklearn.linear_model import Lasso\n",
        "lasso = make_pipeline(RobustScaler(), Lasso(0.0001))\n",
        "lasso.fit(X_train, y_train)"
      ],
      "execution_count": 55,
      "outputs": [
        {
          "output_type": "execute_result",
          "data": {
            "text/plain": [
              "Pipeline(memory=None,\n",
              "         steps=[('robustscaler',\n",
              "                 RobustScaler(copy=True, quantile_range=(25.0, 75.0),\n",
              "                              with_centering=True, with_scaling=True)),\n",
              "                ('lasso',\n",
              "                 Lasso(alpha=0.0001, copy_X=True, fit_intercept=True,\n",
              "                       max_iter=1000, normalize=False, positive=False,\n",
              "                       precompute=False, random_state=None, selection='cyclic',\n",
              "                       tol=0.0001, warm_start=False))],\n",
              "         verbose=False)"
            ]
          },
          "metadata": {
            "tags": []
          },
          "execution_count": 55
        }
      ]
    },
    {
      "cell_type": "markdown",
      "metadata": {
        "id": "QCc3587j0XAs"
      },
      "source": [
        "## Ridge"
      ]
    },
    {
      "cell_type": "code",
      "metadata": {
        "colab": {
          "base_uri": "https://localhost:8080/"
        },
        "id": "uz-fD_cE0XAs",
        "outputId": "25a03a2a-07be-4057-da81-17773bd9b525"
      },
      "source": [
        "from sklearn.linear_model import Ridge\n",
        "ridge = make_pipeline(RobustScaler(), Ridge(0.1))\n",
        "ridge.fit(X_train, y_train)"
      ],
      "execution_count": 56,
      "outputs": [
        {
          "output_type": "execute_result",
          "data": {
            "text/plain": [
              "Pipeline(memory=None,\n",
              "         steps=[('robustscaler',\n",
              "                 RobustScaler(copy=True, quantile_range=(25.0, 75.0),\n",
              "                              with_centering=True, with_scaling=True)),\n",
              "                ('ridge',\n",
              "                 Ridge(alpha=0.1, copy_X=True, fit_intercept=True,\n",
              "                       max_iter=None, normalize=False, random_state=None,\n",
              "                       solver='auto', tol=0.001))],\n",
              "         verbose=False)"
            ]
          },
          "metadata": {
            "tags": []
          },
          "execution_count": 56
        }
      ]
    },
    {
      "cell_type": "markdown",
      "metadata": {
        "id": "TzJ7x6Rh0XAs"
      },
      "source": [
        "## Random Forest Regressor"
      ]
    },
    {
      "cell_type": "code",
      "metadata": {
        "colab": {
          "base_uri": "https://localhost:8080/"
        },
        "id": "1MukajIs0XAs",
        "outputId": "6f22f810-2c17-44bb-97ce-03c3ab08bf96"
      },
      "source": [
        "def objective(trial):\n",
        "    criterion = trial.suggest_categorical('criterion', ['mse', 'mae'])\n",
        "    bootstrap = trial.suggest_categorical('bootstrap',['True','False'])\n",
        "    max_depth = trial.suggest_int('max_depth', 1, 1000)\n",
        "    max_features = trial.suggest_categorical('max_features', ['auto', 'sqrt','log2'])\n",
        "    max_leaf_nodes = trial.suggest_int('max_leaf_nodes', 1,1000)\n",
        "    n_estimators =  trial.suggest_int('n_estimators', 1, 1000)\n",
        "    min_samples_split = trial.suggest_int('min_samples_split',2,5)\n",
        "    min_samples_leaf = trial.suggest_int('min_samples_leaf',1,10)\n",
        "\n",
        "    regr = RandomForestRegressor(bootstrap = bootstrap, criterion = criterion,\n",
        "                                 max_depth = max_depth, max_features = max_features,\n",
        "                                 max_leaf_nodes = max_leaf_nodes,n_estimators = n_estimators,\n",
        "                                 min_samples_split = min_samples_split,min_samples_leaf = min_samples_leaf,\n",
        "                                 n_jobs=2)\n",
        "\n",
        "    score_funcs = {\n",
        "        'rmse': make_scorer(rmse),  # make_scorer() でラップする\n",
        "    }\n",
        "    scores = cross_validate(regr, X_train, y_train, cv=5, scoring=score_funcs)\n",
        "    print(scores)\n",
        "    mean_rmse = scores['test_rmse'].mean()\n",
        "    return mean_rmse\n",
        "    print(r2_mean)\n",
        "\n",
        "    return r2_mean\n",
        "#optunaで学習\n",
        "study = optuna.create_study(direction='minimize')\n",
        "study.optimize(objective, n_trials=100)"
      ],
      "execution_count": null,
      "outputs": [
        {
          "output_type": "stream",
          "text": [
            "\u001b[32m[I 2021-07-31 13:50:14,252]\u001b[0m A new study created in memory with name: no-name-f4f155c0-31fe-44e3-a3b4-b5bc18c073ed\u001b[0m\n",
            "\u001b[32m[I 2021-07-31 13:50:45,854]\u001b[0m Trial 0 finished with value: 0.1369472600682669 and parameters: {'criterion': 'mse', 'bootstrap': 'False', 'max_depth': 340, 'max_features': 'auto', 'max_leaf_nodes': 500, 'n_estimators': 490, 'min_samples_split': 3, 'min_samples_leaf': 2}. Best is trial 0 with value: 0.1369472600682669.\u001b[0m\n"
          ],
          "name": "stderr"
        },
        {
          "output_type": "stream",
          "text": [
            "{'fit_time': array([7.0769248 , 6.31286144, 5.99279475, 5.8406601 , 5.84673238]), 'score_time': array([0.10341644, 0.10275006, 0.10268855, 0.10249972, 0.10256338]), 'test_rmse': array([0.1448405 , 0.13236157, 0.11930647, 0.15056815, 0.13765961])}\n"
          ],
          "name": "stdout"
        },
        {
          "output_type": "stream",
          "text": [
            "\u001b[32m[I 2021-07-31 13:50:55,146]\u001b[0m Trial 1 finished with value: 0.15657035339977643 and parameters: {'criterion': 'mse', 'bootstrap': 'False', 'max_depth': 787, 'max_features': 'log2', 'max_leaf_nodes': 280, 'n_estimators': 918, 'min_samples_split': 3, 'min_samples_leaf': 2}. Best is trial 0 with value: 0.1369472600682669.\u001b[0m\n"
          ],
          "name": "stderr"
        },
        {
          "output_type": "stream",
          "text": [
            "{'fit_time': array([1.66208792, 1.66225815, 1.65443611, 1.63808322, 1.64801455]), 'score_time': array([0.20272636, 0.20275211, 0.20294619, 0.20280194, 0.20270658]), 'test_rmse': array([0.15522878, 0.15810799, 0.13808037, 0.17977568, 0.15165896])}\n"
          ],
          "name": "stdout"
        },
        {
          "output_type": "stream",
          "text": [
            "\u001b[32m[I 2021-07-31 13:51:00,129]\u001b[0m Trial 2 finished with value: 0.18669589113377608 and parameters: {'criterion': 'mse', 'bootstrap': 'True', 'max_depth': 8, 'max_features': 'log2', 'max_leaf_nodes': 270, 'n_estimators': 573, 'min_samples_split': 4, 'min_samples_leaf': 8}. Best is trial 0 with value: 0.1369472600682669.\u001b[0m\n"
          ],
          "name": "stderr"
        },
        {
          "output_type": "stream",
          "text": [
            "{'fit_time': array([0.89607906, 0.89269495, 0.89103198, 0.88779807, 0.89554358]), 'score_time': array([0.10238886, 0.10239649, 0.10244322, 0.10242867, 0.10242915]), 'test_rmse': array([0.17856464, 0.185528  , 0.17616195, 0.21372096, 0.1795039 ])}\n"
          ],
          "name": "stdout"
        },
        {
          "output_type": "stream",
          "text": [
            "\u001b[32m[I 2021-07-31 13:51:08,467]\u001b[0m Trial 3 finished with value: 0.18336038168117852 and parameters: {'criterion': 'mse', 'bootstrap': 'True', 'max_depth': 118, 'max_features': 'log2', 'max_leaf_nodes': 708, 'n_estimators': 979, 'min_samples_split': 3, 'min_samples_leaf': 8}. Best is trial 0 with value: 0.1369472600682669.\u001b[0m\n"
          ],
          "name": "stderr"
        },
        {
          "output_type": "stream",
          "text": [
            "{'fit_time': array([1.47435331, 1.45248246, 1.45209169, 1.47930837, 1.45772314]), 'score_time': array([0.20277286, 0.20289755, 0.20278215, 0.20283985, 0.20273995]), 'test_rmse': array([0.17533959, 0.18370132, 0.17186587, 0.21032336, 0.17557178])}\n"
          ],
          "name": "stdout"
        },
        {
          "output_type": "stream",
          "text": [
            "\u001b[32m[I 2021-07-31 13:51:18,538]\u001b[0m Trial 4 finished with value: 0.14386765322494108 and parameters: {'criterion': 'mse', 'bootstrap': 'False', 'max_depth': 799, 'max_features': 'sqrt', 'max_leaf_nodes': 349, 'n_estimators': 810, 'min_samples_split': 5, 'min_samples_leaf': 2}. Best is trial 0 with value: 0.1369472600682669.\u001b[0m\n"
          ],
          "name": "stderr"
        },
        {
          "output_type": "stream",
          "text": [
            "{'fit_time': array([1.73695421, 1.72293949, 1.86571431, 1.83917093, 1.88040257]), 'score_time': array([0.20281434, 0.20272422, 0.20287848, 0.20306325, 0.20327568]), 'test_rmse': array([0.14664081, 0.1456057 , 0.12143022, 0.16209459, 0.14356694])}\n"
          ],
          "name": "stdout"
        }
      ]
    },
    {
      "cell_type": "code",
      "metadata": {
        "id": "xeohhngl0XAt"
      },
      "source": [
        "study.best_params"
      ],
      "execution_count": null,
      "outputs": []
    },
    {
      "cell_type": "code",
      "metadata": {
        "id": "ielO_zgj0XAt"
      },
      "source": [
        "randf = RandomForestRegressor(max_depth=5, n_estimators=5000)\n",
        "randf.fit(X_train, y_train)"
      ],
      "execution_count": null,
      "outputs": []
    },
    {
      "cell_type": "markdown",
      "metadata": {
        "id": "CknKqMVA0XAt"
      },
      "source": [
        "## STACKING"
      ]
    },
    {
      "cell_type": "code",
      "metadata": {
        "id": "PZW5Z9r_0XAt"
      },
      "source": [
        "\n",
        "xgboost_pred1 = xgboost.predict(X_train)\n",
        "lightbgm_pred1= lightbgm.predict(X_train)\n",
        "gra_pred1= gbr.predict(X_train)\n",
        "lasso_pred1= lasso.predict(X_train)\n",
        "ridge_pred1= ridge.predict(X_train)\n",
        "randf_pred1= randf.predict(X_train)\n",
        "\n",
        "\n",
        "print('[TRAIN]')\n",
        "print (\"xgboost rsme: {:.6f}\".format(rmse(y_train, xgboost_pred1)))\n",
        "print (\"lightbgm rsme: {:.6f}\".format(rmse(y_train, lightbgm_pred1)))\n",
        "print (\"gra rsme: {:.6f}\".format(rmse(y_train, gra_pred1)))\n",
        "print (\"lasso rsme: {:.6f}\".format(rmse(y_train, lasso_pred1)))\n",
        "print (\"ridge rsme: {:.6f}\".format(rmse(y_train, ridge_pred1)))\n",
        "print (\"randf rsme: {:.6f}\".format(rmse(y_train, randf_pred1)))\n",
        "\n",
        "# 結果の検証 \n",
        "xgboost_pred = xgboost.predict(X_test)\n",
        "lightbgm_pred= lightbgm.predict(X_test)\n",
        "gra_pred= gbr.predict(X_test)\n",
        "lasso_pred= lasso.predict(X_test)\n",
        "ridge_pred= ridge.predict(X_test)\n",
        "randf_pred= randf.predict(X_test)\n",
        "\n",
        "print('[VALID]')\n",
        "print (\"xgboost rsme: {:.6f}\".format(rmse(y_test, xgboost_pred)))\n",
        "print (\"lightbgm rsme: {:.6f}\".format(rmse(y_test, lightbgm_pred)))\n",
        "print (\"gra rsme: {:.6f}\".format(rmse(y_test, gra_pred)))\n",
        "print (\"lasso rsme: {:.6f}\".format(rmse(y_test, lasso_pred)))\n",
        "print (\"ridge rsme: {:.6f}\".format(rmse(y_test, ridge_pred)))\n",
        "print (\"randf rsme: {:.6f}\".format(rmse(y_test, randf_pred)))\n",
        "\n",
        "\n",
        "final_estimator = MLPRegressor(solver=\"sgd\", random_state=1)\n",
        "\n",
        "estimators = [\n",
        "    ('xgboost', xgboost),\n",
        "    ('lightbgm', lightbgm), \n",
        "    ('gra', gbr), \n",
        "    ('lasso', lasso)\n",
        "#    ('ridge', ridge)\n",
        "]\n",
        "st_model = StackingRegressor(estimators=estimators, final_estimator=final_estimator, cv=10)\n",
        "\n",
        "st_model.fit(X_train, y_train)\n",
        "\n",
        "y_pred_1 = st_model.predict(X_train)\n",
        "y_pred = st_model.predict(X_test)\n",
        "print(\"\\n\")\n",
        "print(\"TRAIN: Stacking Model rsme: {:.6f}\".format(rmse(y_train, y_pred_1)))\n",
        "print(\"TEST: Stacking Model rsme: {:.6f}\".format(rmse(y_test, y_pred)))"
      ],
      "execution_count": null,
      "outputs": []
    },
    {
      "cell_type": "markdown",
      "metadata": {
        "id": "o8M-y96I0XAu"
      },
      "source": [
        "## PREDICT AND SUBMIT"
      ]
    },
    {
      "cell_type": "code",
      "metadata": {
        "id": "1BqW3PTC0XAu"
      },
      "source": [
        "test = df[df_train.shape[0]:].drop(['SalePrice'], axis=1)\n",
        "\n",
        "submission = pd.DataFrame({\n",
        "    \"Id\": test_ID,\n",
        "    \"SalePrice\": np.floor(np.expm1(st_model.predict(test)))\n",
        "})\n",
        "submission.to_csv(f'{PATH}submission.csv', index=False)"
      ],
      "execution_count": null,
      "outputs": []
    },
    {
      "cell_type": "code",
      "metadata": {
        "id": "ODO9-IGS0XAu"
      },
      "source": [
        "submission.head()"
      ],
      "execution_count": null,
      "outputs": []
    },
    {
      "cell_type": "code",
      "metadata": {
        "id": "2GhBmtYQ0XAv"
      },
      "source": [
        ""
      ],
      "execution_count": null,
      "outputs": []
    }
  ]
>>>>>>> c512f1ccc16eed9b88ed1d6b288f07fcf4c28125
}